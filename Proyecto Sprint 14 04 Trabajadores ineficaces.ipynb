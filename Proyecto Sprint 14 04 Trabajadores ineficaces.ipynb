{
 "cells": [
  {
   "cell_type": "markdown",
   "metadata": {
    "id": "yem0wSVbX2UM"
   },
   "source": [
    "## Introducción:"
   ]
  },
  {
   "cell_type": "markdown",
   "metadata": {
    "id": "XMQ1rutRX2UM"
   },
   "source": [
    "# Proyecto Final: Telecomunicaciones: identificar operadores ineficaces\n",
    "\n",
    "### Ejercicio\n",
    "\n",
    "#### El servicio de telefonía virtual CallMeMaybe está desarrollando una nueva función que brindará a los supervisores y las supervisores información sobre los operadores menos eficaces. Se considera que un operador es ineficaz si tiene una gran cantidad de llamadas entrantes perdidas (internas y externas) y un tiempo de espera prolongado para las llamadas entrantes. Además, si se supone que un operador debe realizar llamadas salientes, un número reducido de ellas también será un signo de ineficacia.\n",
    "\n",
    "- Lleva a cabo el análisis exploratorio de datos\n",
    "- Identificar operadores ineficaces\n",
    "- Prueba las hipótesis estadísticas\n",
    "\n",
    "### Descripción de los datos\n",
    "\n",
    "Los datasets contienen información sobre el uso del servicio de telefonía virtual CallMeMaybe. Sus clientes son organizaciones que necesitan distribuir gran cantidad de llamadas entrantes entre varios operadores, o realizar llamadas salientes a través de sus operadores. Los operadores también pueden realizar llamadas internas para comunicarse entre ellos. Estas llamadas se realizan a través de la red de CallMeMaybe.\n",
    "\n",
    "El dataset comprimido `telecom_dataset_us.csv` contiene las siguientes columnas:\n",
    "\n",
    "- `user_id`: ID de la cuenta de cliente\n",
    "- `date`: fecha en la que se recuperaron las estadísticas\n",
    "- `direction`: \"dirección\" de llamada (`out` para saliente, `in` para entrante)\n",
    "- `internal`: si la llamada fue interna (entre los operadores de un cliente o clienta)\n",
    "- `operator_id`: identificador del operador\n",
    "- `is_missed_call`: si fue una llamada perdida\n",
    "- `calls_count`: número de llamadas\n",
    "- `call_duration`: duración de la llamada (sin incluir el tiempo de espera)\n",
    "- `total_call_duration`: duración de la llamada (incluido el tiempo de espera)\n",
    "\n",
    "\n",
    "\n",
    "El conjunto de datos `telecom_clients_us.csv` tiene las siguientes columnas:\n",
    "\n",
    "- `user_id`: ID de usuario/a\n",
    "- `tariff_plan`: tarifa actual de la clientela\n",
    "- `date_start`: fecha de registro de la clientela\n",
    "\n",
    "Haz una lista de 5 a 10 fuentes (documentación, artículos, etc) que usaste mientras trabajabas en el proyecto. Brinda explicaciones breves sobre las preguntas que cada fuente te ayudó a responder. Prepara una presentación con tus conclusiones. Puedes usar cualquier herramienta que quieras para hacer la presentación, pero debes enviarla en PDF. Coloca el enlace en el cuerpo del proyecto principal.\n",
    "\n",
    "### Dashboards\n",
    "\n",
    "1. Sugerencia 1\n",
    "    1. Traza un histograma para la duración de la llamada\n",
    "    2. Traza un gráfico circular que muestre la participación de las llamadas internas y externas\n",
    "    3. Agrega un filtro para la \"dirección\" de llamadas\n",
    "2. Sugerencia 2\n",
    "    1. Traza un histograma que muestre el número de llamadas por día\n",
    "    2. Traza un gráfico circular que muestre la participación de las llamadas internas y externas\n",
    "    3. Agrega un filtro por tipo de llamada (interna o externa)"
   ]
  },
  {
   "cell_type": "markdown",
   "metadata": {
    "id": "01Z76RB7X2UO"
   },
   "source": [
    "## Importar librerías:"
   ]
  },
  {
   "cell_type": "code",
   "execution_count": 1,
   "metadata": {
    "id": "U9gGbW--X2UO"
   },
   "outputs": [],
   "source": [
    "# Se cargan todas las librerías que se puedan usar:\n",
    "import pandas as pd\n",
    "import numpy as np\n",
    "import math as mt\n",
    "from scipy.spatial.distance import mahalanobis\n",
    "import scipy.stats as st\n",
    "from scipy.stats import chi2\n",
    "from scipy.stats import chi2_contingency\n",
    "import matplotlib.pyplot as plt\n",
    "import seaborn as sns\n",
    "\n",
    "from sklearn.preprocessing import StandardScaler\n",
    "from sklearn.model_selection import train_test_split\n",
    "from sklearn.model_selection import GridSearchCV\n",
    "from sklearn.linear_model import LogisticRegression\n",
    "from sklearn.ensemble import RandomForestClassifier\n",
    "from sklearn.cluster import KMeans\n",
    "\n",
    "from sklearn.metrics import accuracy_score, precision_score, recall_score, f1_score\n",
    "from sklearn.metrics import roc_auc_score\n",
    "from sklearn.metrics import davies_bouldin_score\n",
    "from sklearn.metrics import mean_absolute_error, mean_squared_error, r2_score\n",
    "\n",
    "from scipy.spatial.distance import pdist\n",
    "from scipy.cluster.hierarchy import linkage\n",
    "from scipy.cluster.hierarchy import dendrogram"
   ]
  },
  {
   "cell_type": "markdown",
   "metadata": {
    "id": "qfg9Don3X2UP"
   },
   "source": [
    "## Cargar datos:"
   ]
  },
  {
   "cell_type": "code",
   "execution_count": 2,
   "metadata": {
    "id": "kwjIDU_VX2UP"
   },
   "outputs": [],
   "source": [
    "# Se cargan los datos empleando la librería pandas:\n",
    "\n",
    "# Se carga la información de las llamadas:\n",
    "data = pd.read_csv('telecom_dataset_us.csv')\n",
    "\n",
    "# Se carga la información de los clientes:\n",
    "clients = pd.read_csv('telecom_clients_us.csv')"
   ]
  },
  {
   "cell_type": "markdown",
   "metadata": {
    "id": "OMXBMy4sX2UQ"
   },
   "source": [
    "## Análisis exploratorio de los datos (EDA):"
   ]
  },
  {
   "cell_type": "markdown",
   "metadata": {
    "id": "3TQArVaVX2UQ"
   },
   "source": [
    "### Dataframe \"data\":"
   ]
  },
  {
   "cell_type": "markdown",
   "metadata": {
    "id": "hB2BRVHNX2UR"
   },
   "source": [
    "#### Observación de los datos:"
   ]
  },
  {
   "cell_type": "code",
   "execution_count": 3,
   "metadata": {
    "colab": {
     "base_uri": "https://localhost:8080/",
     "height": 330
    },
    "id": "y2Iq-WqEX2UR",
    "outputId": "33e27e92-e47a-4067-c4c4-29c7ae179f0d"
   },
   "outputs": [
    {
     "name": "stdout",
     "output_type": "stream",
     "text": [
      "Las primeras 5 filas del dataframe, son:\n"
     ]
    },
    {
     "data": {
      "text/html": [
       "<div>\n",
       "<style scoped>\n",
       "    .dataframe tbody tr th:only-of-type {\n",
       "        vertical-align: middle;\n",
       "    }\n",
       "\n",
       "    .dataframe tbody tr th {\n",
       "        vertical-align: top;\n",
       "    }\n",
       "\n",
       "    .dataframe thead th {\n",
       "        text-align: right;\n",
       "    }\n",
       "</style>\n",
       "<table border=\"1\" class=\"dataframe\">\n",
       "  <thead>\n",
       "    <tr style=\"text-align: right;\">\n",
       "      <th></th>\n",
       "      <th>user_id</th>\n",
       "      <th>date</th>\n",
       "      <th>direction</th>\n",
       "      <th>internal</th>\n",
       "      <th>operator_id</th>\n",
       "      <th>is_missed_call</th>\n",
       "      <th>calls_count</th>\n",
       "      <th>call_duration</th>\n",
       "      <th>total_call_duration</th>\n",
       "    </tr>\n",
       "  </thead>\n",
       "  <tbody>\n",
       "    <tr>\n",
       "      <th>0</th>\n",
       "      <td>166377</td>\n",
       "      <td>2019-08-04 00:00:00+03:00</td>\n",
       "      <td>in</td>\n",
       "      <td>False</td>\n",
       "      <td>NaN</td>\n",
       "      <td>True</td>\n",
       "      <td>2</td>\n",
       "      <td>0</td>\n",
       "      <td>4</td>\n",
       "    </tr>\n",
       "    <tr>\n",
       "      <th>1</th>\n",
       "      <td>166377</td>\n",
       "      <td>2019-08-05 00:00:00+03:00</td>\n",
       "      <td>out</td>\n",
       "      <td>True</td>\n",
       "      <td>880022.0</td>\n",
       "      <td>True</td>\n",
       "      <td>3</td>\n",
       "      <td>0</td>\n",
       "      <td>5</td>\n",
       "    </tr>\n",
       "    <tr>\n",
       "      <th>2</th>\n",
       "      <td>166377</td>\n",
       "      <td>2019-08-05 00:00:00+03:00</td>\n",
       "      <td>out</td>\n",
       "      <td>True</td>\n",
       "      <td>880020.0</td>\n",
       "      <td>True</td>\n",
       "      <td>1</td>\n",
       "      <td>0</td>\n",
       "      <td>1</td>\n",
       "    </tr>\n",
       "    <tr>\n",
       "      <th>3</th>\n",
       "      <td>166377</td>\n",
       "      <td>2019-08-05 00:00:00+03:00</td>\n",
       "      <td>out</td>\n",
       "      <td>True</td>\n",
       "      <td>880020.0</td>\n",
       "      <td>False</td>\n",
       "      <td>1</td>\n",
       "      <td>10</td>\n",
       "      <td>18</td>\n",
       "    </tr>\n",
       "    <tr>\n",
       "      <th>4</th>\n",
       "      <td>166377</td>\n",
       "      <td>2019-08-05 00:00:00+03:00</td>\n",
       "      <td>out</td>\n",
       "      <td>False</td>\n",
       "      <td>880022.0</td>\n",
       "      <td>True</td>\n",
       "      <td>3</td>\n",
       "      <td>0</td>\n",
       "      <td>25</td>\n",
       "    </tr>\n",
       "  </tbody>\n",
       "</table>\n",
       "</div>"
      ],
      "text/plain": [
       "   user_id                       date direction internal  operator_id  \\\n",
       "0   166377  2019-08-04 00:00:00+03:00        in    False          NaN   \n",
       "1   166377  2019-08-05 00:00:00+03:00       out     True     880022.0   \n",
       "2   166377  2019-08-05 00:00:00+03:00       out     True     880020.0   \n",
       "3   166377  2019-08-05 00:00:00+03:00       out     True     880020.0   \n",
       "4   166377  2019-08-05 00:00:00+03:00       out    False     880022.0   \n",
       "\n",
       "   is_missed_call  calls_count  call_duration  total_call_duration  \n",
       "0            True            2              0                    4  \n",
       "1            True            3              0                    5  \n",
       "2            True            1              0                    1  \n",
       "3           False            1             10                   18  \n",
       "4            True            3              0                   25  "
      ]
     },
     "execution_count": 3,
     "metadata": {},
     "output_type": "execute_result"
    }
   ],
   "source": [
    "# Se visualizan las primeras 5 filas del dataframe:\n",
    "print('Las primeras 5 filas del dataframe, son:')\n",
    "data.head()"
   ]
  },
  {
   "cell_type": "markdown",
   "metadata": {
    "id": "zjpG0lPAX2US"
   },
   "source": [
    "#### Información general del dataframe:"
   ]
  },
  {
   "cell_type": "code",
   "execution_count": 4,
   "metadata": {
    "colab": {
     "base_uri": "https://localhost:8080/"
    },
    "id": "39P02MBdX2US",
    "outputId": "20ad755c-6521-4878-e0ef-606267b408ba"
   },
   "outputs": [
    {
     "name": "stdout",
     "output_type": "stream",
     "text": [
      "La información general del dataframe, es:\n",
      "\n",
      "<class 'pandas.core.frame.DataFrame'>\n",
      "RangeIndex: 53902 entries, 0 to 53901\n",
      "Data columns (total 9 columns):\n",
      " #   Column               Non-Null Count  Dtype  \n",
      "---  ------               --------------  -----  \n",
      " 0   user_id              53902 non-null  int64  \n",
      " 1   date                 53902 non-null  object \n",
      " 2   direction            53902 non-null  object \n",
      " 3   internal             53785 non-null  object \n",
      " 4   operator_id          45730 non-null  float64\n",
      " 5   is_missed_call       53902 non-null  bool   \n",
      " 6   calls_count          53902 non-null  int64  \n",
      " 7   call_duration        53902 non-null  int64  \n",
      " 8   total_call_duration  53902 non-null  int64  \n",
      "dtypes: bool(1), float64(1), int64(4), object(3)\n",
      "memory usage: 3.3+ MB\n"
     ]
    }
   ],
   "source": [
    "# Se observa la información general del dataframe:\n",
    "\n",
    "print('La información general del dataframe, es:\\n')\n",
    "data.info()"
   ]
  },
  {
   "cell_type": "markdown",
   "metadata": {
    "id": "vhrxuXAVX2US"
   },
   "source": [
    "#### Revisar si hay espacios en blanco al principio y al final de los nombres de las columnas:"
   ]
  },
  {
   "cell_type": "code",
   "execution_count": 5,
   "metadata": {
    "colab": {
     "base_uri": "https://localhost:8080/"
    },
    "id": "y8AePhSPX2UT",
    "outputId": "0ab4c345-005c-41f8-b6d9-87b525687316"
   },
   "outputs": [
    {
     "name": "stdout",
     "output_type": "stream",
     "text": [
      "Los nombres de las columnas, son:\n"
     ]
    },
    {
     "data": {
      "text/plain": [
       "Index(['user_id', 'date', 'direction', 'internal', 'operator_id',\n",
       "       'is_missed_call', 'calls_count', 'call_duration',\n",
       "       'total_call_duration'],\n",
       "      dtype='object')"
      ]
     },
     "execution_count": 5,
     "metadata": {},
     "output_type": "execute_result"
    }
   ],
   "source": [
    "# Se observa si hay espacios en blanco al principio o al final de los nombres de las columnas:\n",
    "\n",
    "print('Los nombres de las columnas, son:')\n",
    "data.columns"
   ]
  },
  {
   "cell_type": "markdown",
   "metadata": {
    "id": "IrR9l3mUX2UT"
   },
   "source": [
    "#### Contar los valores ausentes de las columnas:"
   ]
  },
  {
   "cell_type": "code",
   "execution_count": 6,
   "metadata": {
    "colab": {
     "base_uri": "https://localhost:8080/",
     "height": 384
    },
    "id": "FXL86xzLX2UT",
    "outputId": "a5bbe720-1a3f-462f-9eb2-90c6ce712f1f"
   },
   "outputs": [
    {
     "name": "stdout",
     "output_type": "stream",
     "text": [
      "La cantidad de valores ausentes para cada columna, son:\n"
     ]
    },
    {
     "data": {
      "text/plain": [
       "user_id                   0\n",
       "date                      0\n",
       "direction                 0\n",
       "internal                117\n",
       "operator_id            8172\n",
       "is_missed_call            0\n",
       "calls_count               0\n",
       "call_duration             0\n",
       "total_call_duration       0\n",
       "dtype: int64"
      ]
     },
     "execution_count": 6,
     "metadata": {},
     "output_type": "execute_result"
    }
   ],
   "source": [
    "# Se cuenta la cantidad de valores ausentes para cada columna:\n",
    "\n",
    "print('La cantidad de valores ausentes para cada columna, son:')\n",
    "data.isna().sum()"
   ]
  },
  {
   "cell_type": "markdown",
   "metadata": {
    "id": "TduYc0eHX2UU"
   },
   "source": [
    "#### Se cuenta el número de filas totlamente duplicadas:"
   ]
  },
  {
   "cell_type": "code",
   "execution_count": 7,
   "metadata": {
    "colab": {
     "base_uri": "https://localhost:8080/"
    },
    "id": "87-wnay1X2UU",
    "outputId": "06ce6f14-435c-45f8-942c-122db995dda0"
   },
   "outputs": [
    {
     "name": "stdout",
     "output_type": "stream",
     "text": [
      "La cantidad de filas totalmente duplicadas, es:\n"
     ]
    },
    {
     "data": {
      "text/plain": [
       "4900"
      ]
     },
     "execution_count": 7,
     "metadata": {},
     "output_type": "execute_result"
    }
   ],
   "source": [
    "# Se cuenta la cantidad de filas totalmente duplicadas:\n",
    "\n",
    "print('La cantidad de filas totalmente duplicadas, es:')\n",
    "data.duplicated().sum()"
   ]
  },
  {
   "cell_type": "markdown",
   "metadata": {
    "id": "Fzof7dk_X2UU"
   },
   "source": [
    "#### Determinar si existen filas totalmente duplicadas:"
   ]
  },
  {
   "cell_type": "code",
   "execution_count": 8,
   "metadata": {
    "colab": {
     "base_uri": "https://localhost:8080/",
     "height": 635
    },
    "id": "TsqG0_g6X2UV",
    "outputId": "b0f19d2b-3abb-42ea-8353-6cf925703568"
   },
   "outputs": [
    {
     "name": "stdout",
     "output_type": "stream",
     "text": [
      "Las filas totalmente duplicadas, son:\n"
     ]
    },
    {
     "data": {
      "text/html": [
       "<div>\n",
       "<style scoped>\n",
       "    .dataframe tbody tr th:only-of-type {\n",
       "        vertical-align: middle;\n",
       "    }\n",
       "\n",
       "    .dataframe tbody tr th {\n",
       "        vertical-align: top;\n",
       "    }\n",
       "\n",
       "    .dataframe thead th {\n",
       "        text-align: right;\n",
       "    }\n",
       "</style>\n",
       "<table border=\"1\" class=\"dataframe\">\n",
       "  <thead>\n",
       "    <tr style=\"text-align: right;\">\n",
       "      <th></th>\n",
       "      <th>user_id</th>\n",
       "      <th>date</th>\n",
       "      <th>direction</th>\n",
       "      <th>internal</th>\n",
       "      <th>operator_id</th>\n",
       "      <th>is_missed_call</th>\n",
       "      <th>calls_count</th>\n",
       "      <th>call_duration</th>\n",
       "      <th>total_call_duration</th>\n",
       "    </tr>\n",
       "  </thead>\n",
       "  <tbody>\n",
       "    <tr>\n",
       "      <th>8</th>\n",
       "      <td>166377</td>\n",
       "      <td>2019-08-05 00:00:00+03:00</td>\n",
       "      <td>out</td>\n",
       "      <td>False</td>\n",
       "      <td>880020.0</td>\n",
       "      <td>True</td>\n",
       "      <td>8</td>\n",
       "      <td>0</td>\n",
       "      <td>50</td>\n",
       "    </tr>\n",
       "    <tr>\n",
       "      <th>28</th>\n",
       "      <td>166377</td>\n",
       "      <td>2019-08-12 00:00:00+03:00</td>\n",
       "      <td>in</td>\n",
       "      <td>False</td>\n",
       "      <td>NaN</td>\n",
       "      <td>True</td>\n",
       "      <td>2</td>\n",
       "      <td>0</td>\n",
       "      <td>34</td>\n",
       "    </tr>\n",
       "    <tr>\n",
       "      <th>44</th>\n",
       "      <td>166377</td>\n",
       "      <td>2019-08-14 00:00:00+03:00</td>\n",
       "      <td>out</td>\n",
       "      <td>False</td>\n",
       "      <td>880026.0</td>\n",
       "      <td>False</td>\n",
       "      <td>10</td>\n",
       "      <td>1567</td>\n",
       "      <td>1654</td>\n",
       "    </tr>\n",
       "    <tr>\n",
       "      <th>45</th>\n",
       "      <td>166377</td>\n",
       "      <td>2019-08-14 00:00:00+03:00</td>\n",
       "      <td>in</td>\n",
       "      <td>False</td>\n",
       "      <td>NaN</td>\n",
       "      <td>True</td>\n",
       "      <td>1</td>\n",
       "      <td>0</td>\n",
       "      <td>3</td>\n",
       "    </tr>\n",
       "    <tr>\n",
       "      <th>51</th>\n",
       "      <td>166377</td>\n",
       "      <td>2019-08-15 00:00:00+03:00</td>\n",
       "      <td>out</td>\n",
       "      <td>False</td>\n",
       "      <td>880026.0</td>\n",
       "      <td>False</td>\n",
       "      <td>11</td>\n",
       "      <td>1413</td>\n",
       "      <td>1473</td>\n",
       "    </tr>\n",
       "    <tr>\n",
       "      <th>...</th>\n",
       "      <td>...</td>\n",
       "      <td>...</td>\n",
       "      <td>...</td>\n",
       "      <td>...</td>\n",
       "      <td>...</td>\n",
       "      <td>...</td>\n",
       "      <td>...</td>\n",
       "      <td>...</td>\n",
       "      <td>...</td>\n",
       "    </tr>\n",
       "    <tr>\n",
       "      <th>53869</th>\n",
       "      <td>168601</td>\n",
       "      <td>2019-11-25 00:00:00+03:00</td>\n",
       "      <td>in</td>\n",
       "      <td>False</td>\n",
       "      <td>952914.0</td>\n",
       "      <td>False</td>\n",
       "      <td>7</td>\n",
       "      <td>1229</td>\n",
       "      <td>1282</td>\n",
       "    </tr>\n",
       "    <tr>\n",
       "      <th>53874</th>\n",
       "      <td>168601</td>\n",
       "      <td>2019-11-26 00:00:00+03:00</td>\n",
       "      <td>in</td>\n",
       "      <td>False</td>\n",
       "      <td>952914.0</td>\n",
       "      <td>False</td>\n",
       "      <td>4</td>\n",
       "      <td>539</td>\n",
       "      <td>562</td>\n",
       "    </tr>\n",
       "    <tr>\n",
       "      <th>53875</th>\n",
       "      <td>168601</td>\n",
       "      <td>2019-11-26 00:00:00+03:00</td>\n",
       "      <td>in</td>\n",
       "      <td>False</td>\n",
       "      <td>NaN</td>\n",
       "      <td>True</td>\n",
       "      <td>3</td>\n",
       "      <td>0</td>\n",
       "      <td>35</td>\n",
       "    </tr>\n",
       "    <tr>\n",
       "      <th>53885</th>\n",
       "      <td>168603</td>\n",
       "      <td>2019-11-20 00:00:00+03:00</td>\n",
       "      <td>out</td>\n",
       "      <td>False</td>\n",
       "      <td>959118.0</td>\n",
       "      <td>True</td>\n",
       "      <td>3</td>\n",
       "      <td>0</td>\n",
       "      <td>89</td>\n",
       "    </tr>\n",
       "    <tr>\n",
       "      <th>53900</th>\n",
       "      <td>168606</td>\n",
       "      <td>2019-11-15 00:00:00+03:00</td>\n",
       "      <td>out</td>\n",
       "      <td>True</td>\n",
       "      <td>957922.0</td>\n",
       "      <td>False</td>\n",
       "      <td>4</td>\n",
       "      <td>3130</td>\n",
       "      <td>3190</td>\n",
       "    </tr>\n",
       "  </tbody>\n",
       "</table>\n",
       "<p>4900 rows × 9 columns</p>\n",
       "</div>"
      ],
      "text/plain": [
       "       user_id                       date direction internal  operator_id  \\\n",
       "8       166377  2019-08-05 00:00:00+03:00       out    False     880020.0   \n",
       "28      166377  2019-08-12 00:00:00+03:00        in    False          NaN   \n",
       "44      166377  2019-08-14 00:00:00+03:00       out    False     880026.0   \n",
       "45      166377  2019-08-14 00:00:00+03:00        in    False          NaN   \n",
       "51      166377  2019-08-15 00:00:00+03:00       out    False     880026.0   \n",
       "...        ...                        ...       ...      ...          ...   \n",
       "53869   168601  2019-11-25 00:00:00+03:00        in    False     952914.0   \n",
       "53874   168601  2019-11-26 00:00:00+03:00        in    False     952914.0   \n",
       "53875   168601  2019-11-26 00:00:00+03:00        in    False          NaN   \n",
       "53885   168603  2019-11-20 00:00:00+03:00       out    False     959118.0   \n",
       "53900   168606  2019-11-15 00:00:00+03:00       out     True     957922.0   \n",
       "\n",
       "       is_missed_call  calls_count  call_duration  total_call_duration  \n",
       "8                True            8              0                   50  \n",
       "28               True            2              0                   34  \n",
       "44              False           10           1567                 1654  \n",
       "45               True            1              0                    3  \n",
       "51              False           11           1413                 1473  \n",
       "...               ...          ...            ...                  ...  \n",
       "53869           False            7           1229                 1282  \n",
       "53874           False            4            539                  562  \n",
       "53875            True            3              0                   35  \n",
       "53885            True            3              0                   89  \n",
       "53900           False            4           3130                 3190  \n",
       "\n",
       "[4900 rows x 9 columns]"
      ]
     },
     "execution_count": 8,
     "metadata": {},
     "output_type": "execute_result"
    }
   ],
   "source": [
    "# Se muestran las filas totalmente duplicadas para corroborar que no hay una falla en el sistema:\n",
    "\n",
    "print('Las filas totalmente duplicadas, son:')\n",
    "data[data.duplicated()]"
   ]
  },
  {
   "cell_type": "markdown",
   "metadata": {
    "id": "iTNW0swyX2UV"
   },
   "source": [
    "**Conclusiones:**\n",
    "\n",
    "* Se dispone con un total de **9 columnas** y **53902 filas**.\n",
    "\n",
    "* El tipo de dato de las columnas **'user_id'**, **'direction'**, **'internal'**, **'is_missed_call'**, **'calls_count'**, **'call_duration'** y **'total_call_duration'** es el correcto.\n",
    "\n",
    "* El tipo de dato de la columna **'date'** se debe cambiar de **object** a **datetime**.\n",
    "\n",
    "* El tipo de dato de la columna **'operator_id'** se debe cambiar de **float** a **int**.\n",
    "\n",
    "* Los nombres de las columnas están **todos en minúsculas** y las palabras está separadas por **\"_\"**.\n",
    "\n",
    "* **No existen espacios en blanco al principio, ni al final** de los nombres de las columnas.\n",
    "\n",
    "* **No hay valores ausentes en las columnas 'user_id', 'date', 'direction', 'is_missed_call', 'calls_count', 'call_duration'** y **'total_call_duration'**.\n",
    "\n",
    "* **Hay 117 valores ausentes en la columna 'internal'**.\n",
    "\n",
    "* **Hay 8172 valores ausentes en la columna 'operator_id'**.\n",
    "\n",
    "* Al realizar el conteo de los valores duplicados se observa que aparentemente **hay 4900 filas totalmente duplicadas**.\n",
    "\n",
    "* Al filtrar las filas duplicadas se comprueba que efectivamente **existen filas totalmente duplicadas** y que no se trata de un error del conteo de los valores duplicados."
   ]
  },
  {
   "cell_type": "markdown",
   "metadata": {
    "id": "URlAXHq3X2UW"
   },
   "source": [
    "### Dataframe \"clients\":"
   ]
  },
  {
   "cell_type": "markdown",
   "metadata": {
    "id": "oDHmdpafX2UW"
   },
   "source": [
    "#### Observación de los datos:"
   ]
  },
  {
   "cell_type": "code",
   "execution_count": 9,
   "metadata": {
    "colab": {
     "base_uri": "https://localhost:8080/",
     "height": 241
    },
    "id": "rdvjc5pCX2UW",
    "outputId": "1a9c3546-85fd-47e9-f7dd-6e12412ef25b"
   },
   "outputs": [
    {
     "name": "stdout",
     "output_type": "stream",
     "text": [
      "Las primeras 5 filas del dataframe, son:\n",
      "\n"
     ]
    },
    {
     "data": {
      "text/html": [
       "<div>\n",
       "<style scoped>\n",
       "    .dataframe tbody tr th:only-of-type {\n",
       "        vertical-align: middle;\n",
       "    }\n",
       "\n",
       "    .dataframe tbody tr th {\n",
       "        vertical-align: top;\n",
       "    }\n",
       "\n",
       "    .dataframe thead th {\n",
       "        text-align: right;\n",
       "    }\n",
       "</style>\n",
       "<table border=\"1\" class=\"dataframe\">\n",
       "  <thead>\n",
       "    <tr style=\"text-align: right;\">\n",
       "      <th></th>\n",
       "      <th>user_id</th>\n",
       "      <th>tariff_plan</th>\n",
       "      <th>date_start</th>\n",
       "    </tr>\n",
       "  </thead>\n",
       "  <tbody>\n",
       "    <tr>\n",
       "      <th>0</th>\n",
       "      <td>166713</td>\n",
       "      <td>A</td>\n",
       "      <td>2019-08-15</td>\n",
       "    </tr>\n",
       "    <tr>\n",
       "      <th>1</th>\n",
       "      <td>166901</td>\n",
       "      <td>A</td>\n",
       "      <td>2019-08-23</td>\n",
       "    </tr>\n",
       "    <tr>\n",
       "      <th>2</th>\n",
       "      <td>168527</td>\n",
       "      <td>A</td>\n",
       "      <td>2019-10-29</td>\n",
       "    </tr>\n",
       "    <tr>\n",
       "      <th>3</th>\n",
       "      <td>167097</td>\n",
       "      <td>A</td>\n",
       "      <td>2019-09-01</td>\n",
       "    </tr>\n",
       "    <tr>\n",
       "      <th>4</th>\n",
       "      <td>168193</td>\n",
       "      <td>A</td>\n",
       "      <td>2019-10-16</td>\n",
       "    </tr>\n",
       "  </tbody>\n",
       "</table>\n",
       "</div>"
      ],
      "text/plain": [
       "   user_id tariff_plan  date_start\n",
       "0   166713           A  2019-08-15\n",
       "1   166901           A  2019-08-23\n",
       "2   168527           A  2019-10-29\n",
       "3   167097           A  2019-09-01\n",
       "4   168193           A  2019-10-16"
      ]
     },
     "execution_count": 9,
     "metadata": {},
     "output_type": "execute_result"
    }
   ],
   "source": [
    "# Se visualizan las primeras 5 filas del dataframe:\n",
    "\n",
    "print('Las primeras 5 filas del dataframe, son:\\n')\n",
    "clients.head()"
   ]
  },
  {
   "cell_type": "markdown",
   "metadata": {
    "id": "1OCvudHvX2UW"
   },
   "source": [
    "#### Información general del dataframe:"
   ]
  },
  {
   "cell_type": "code",
   "execution_count": 10,
   "metadata": {
    "colab": {
     "base_uri": "https://localhost:8080/"
    },
    "id": "ELCCmaAWX2UX",
    "outputId": "c5d8ccc1-efe8-4f25-a7df-98d39abf1f7a"
   },
   "outputs": [
    {
     "name": "stdout",
     "output_type": "stream",
     "text": [
      "La información general del dataframe, es:\n",
      "\n",
      "<class 'pandas.core.frame.DataFrame'>\n",
      "RangeIndex: 732 entries, 0 to 731\n",
      "Data columns (total 3 columns):\n",
      " #   Column       Non-Null Count  Dtype \n",
      "---  ------       --------------  ----- \n",
      " 0   user_id      732 non-null    int64 \n",
      " 1   tariff_plan  732 non-null    object\n",
      " 2   date_start   732 non-null    object\n",
      "dtypes: int64(1), object(2)\n",
      "memory usage: 17.3+ KB\n"
     ]
    }
   ],
   "source": [
    "# Se observa la información general del dataframe:\n",
    "\n",
    "print('La información general del dataframe, es:\\n')\n",
    "clients.info()"
   ]
  },
  {
   "cell_type": "markdown",
   "metadata": {
    "id": "J9k_t0t_X2UX"
   },
   "source": [
    "#### Revisar si hay espacios en blanco al principio y al final de los nombres de las columnas:"
   ]
  },
  {
   "cell_type": "code",
   "execution_count": 11,
   "metadata": {
    "colab": {
     "base_uri": "https://localhost:8080/"
    },
    "id": "MCGqKWSKX2UY",
    "outputId": "4b03fe23-22f1-427f-f6ed-cdd6de97a159"
   },
   "outputs": [
    {
     "name": "stdout",
     "output_type": "stream",
     "text": [
      "Los nombres de las columnas, son:\n"
     ]
    },
    {
     "data": {
      "text/plain": [
       "Index(['user_id', 'tariff_plan', 'date_start'], dtype='object')"
      ]
     },
     "execution_count": 11,
     "metadata": {},
     "output_type": "execute_result"
    }
   ],
   "source": [
    "# Se observa si hay espacios en blanco al principio o al final de los nombres de las columnas:\n",
    "\n",
    "print('Los nombres de las columnas, son:')\n",
    "clients.columns"
   ]
  },
  {
   "cell_type": "markdown",
   "metadata": {
    "id": "gYrh86UmX2UY"
   },
   "source": [
    "#### Contar los valores ausentes de las columnas:"
   ]
  },
  {
   "cell_type": "code",
   "execution_count": 12,
   "metadata": {
    "colab": {
     "base_uri": "https://localhost:8080/",
     "height": 196
    },
    "id": "Qylap0ZyX2UY",
    "outputId": "6feb6378-fa70-4066-e8aa-458a8f9f58ad"
   },
   "outputs": [
    {
     "name": "stdout",
     "output_type": "stream",
     "text": [
      "La cantidad de valores ausentes para cada columna, son:\n"
     ]
    },
    {
     "data": {
      "text/plain": [
       "user_id        0\n",
       "tariff_plan    0\n",
       "date_start     0\n",
       "dtype: int64"
      ]
     },
     "execution_count": 12,
     "metadata": {},
     "output_type": "execute_result"
    }
   ],
   "source": [
    "# Se cuenta la cantidad de valores ausentes para cada columna:\n",
    "\n",
    "print('La cantidad de valores ausentes para cada columna, son:')\n",
    "clients.isna().sum()"
   ]
  },
  {
   "cell_type": "markdown",
   "metadata": {
    "id": "JM29T1DrX2UZ"
   },
   "source": [
    "#### Se cuenta el número de filas totalmente duplicadas:"
   ]
  },
  {
   "cell_type": "code",
   "execution_count": 13,
   "metadata": {
    "colab": {
     "base_uri": "https://localhost:8080/"
    },
    "id": "7zSsAXisX2UZ",
    "outputId": "d032a0c5-ea77-43da-bdaa-e394b9f99618"
   },
   "outputs": [
    {
     "name": "stdout",
     "output_type": "stream",
     "text": [
      "La cantidad de filas totalmente duplicadas, es:\n"
     ]
    },
    {
     "data": {
      "text/plain": [
       "0"
      ]
     },
     "execution_count": 13,
     "metadata": {},
     "output_type": "execute_result"
    }
   ],
   "source": [
    "# Se cuenta la cantidad de filas totalmente duplicadas:\n",
    "\n",
    "print('La cantidad de filas totalmente duplicadas, es:')\n",
    "clients.duplicated().sum()"
   ]
  },
  {
   "cell_type": "markdown",
   "metadata": {
    "id": "QSL3lfdiX2Ua"
   },
   "source": [
    "**Conclusiones:**\n",
    "\n",
    "* Se dispone con un total de **732 filas** y **3 columnas**.\n",
    "\n",
    "* El tipo de dato de las columnas **'user_id'** y **'tariff_plan'** es el que correcto para las columnas.\n",
    "\n",
    "* El tipo de dato de la columna **'date_start'** se debe cambiar de **object** a **datetime**.\n",
    "\n",
    "* Los nombres de las columnas están **todos en minúsculas** y las palabras está separadas por **\"_\"**.\n",
    "\n",
    "* **No existen espacios en blanco al principio, ni al final** de los nombres de las columnas.\n",
    "\n",
    "* **No hay valores ausentes en ninguna columna**.\n",
    "\n",
    "* **No hay filas totalmente duplicadas**."
   ]
  },
  {
   "cell_type": "markdown",
   "metadata": {
    "id": "lfWO-pxAX2Ua"
   },
   "source": [
    "### Corrección de los datos:"
   ]
  },
  {
   "cell_type": "markdown",
   "metadata": {
    "id": "iGCYqwaTX2Ua"
   },
   "source": [
    "* El tipo de dato de la columna **'date'** se debe cambiar de **object** a **datetime**.\n",
    "\n",
    "* El tipo de dato de la columna **'operator_id'** se debe cambiar de **float** a **int**.\n",
    "\n",
    "* **Hay 117 valores ausentes en la columna 'internal'**.\n",
    "\n",
    "* **Hay 8172 valores ausentes en la columna 'operator_id'**.\n",
    "\n",
    "* valores duplicados."
   ]
  },
  {
   "cell_type": "markdown",
   "metadata": {
    "id": "3Fc7p6_XX2Ub"
   },
   "source": [
    "#### Dataframe \"data\":"
   ]
  },
  {
   "cell_type": "markdown",
   "metadata": {
    "id": "RpNO0JNMX2Ub"
   },
   "source": [
    "##### Cambiar el tipo de dato de la columa 'date':"
   ]
  },
  {
   "cell_type": "code",
   "execution_count": 14,
   "metadata": {
    "id": "fO2MA0U5X2Uk"
   },
   "outputs": [],
   "source": [
    "# Se cambia el tipo de dato de la columna 'date' de object a datetime:\n",
    "data['date'] = pd.to_datetime(data['date'])"
   ]
  },
  {
   "cell_type": "markdown",
   "metadata": {
    "id": "nZB_yoUlX2Uk"
   },
   "source": [
    "##### Eliminar las filas duplicadas:"
   ]
  },
  {
   "cell_type": "code",
   "execution_count": 15,
   "metadata": {
    "colab": {
     "base_uri": "https://localhost:8080/"
    },
    "id": "1xqxdotkX2Ul",
    "outputId": "909d1b0a-85be-48bd-89fb-c84226ba3a78"
   },
   "outputs": [
    {
     "name": "stdout",
     "output_type": "stream",
     "text": [
      "Después de eliminar las filas duplicadas, se tiene un total de: 49002 filas.\n"
     ]
    }
   ],
   "source": [
    "# Se elimnan las filas duplicadas:\n",
    "data = data.drop_duplicates().reset_index(drop = True)\n",
    "\n",
    "print('Después de eliminar las filas duplicadas, se tiene un total de:', len(data), 'filas.')"
   ]
  },
  {
   "cell_type": "markdown",
   "metadata": {
    "id": "VRvw-MMwX2Ul"
   },
   "source": [
    "##### Descartar filas sin 'operator_id':"
   ]
  },
  {
   "cell_type": "markdown",
   "metadata": {
    "id": "wZAdac7jX2Ul"
   },
   "source": [
    "Dado que se deben identificar los operadores menos eficaces, no tiene sentido conservar los valores de aquellos operadores de los cuales no se tiene su número de identificación, razón por la cual se creará una nueva copia de los datos en la cual se excluyan aquellas filas en las cuales no existe el número de identificador único del operador."
   ]
  },
  {
   "cell_type": "code",
   "execution_count": 16,
   "metadata": {
    "colab": {
     "base_uri": "https://localhost:8080/"
    },
    "id": "ca5HC4CcX2Um",
    "outputId": "476e4837-522a-49f6-dcd9-23f44190d8b2"
   },
   "outputs": [
    {
     "name": "stdout",
     "output_type": "stream",
     "text": [
      "Después de filtar las filas que no tienen el 'operador_id', se tiene un total de: 41546 filas.\n"
     ]
    }
   ],
   "source": [
    "# Se exclueyn los datos en lso que no se tiene registro del 'operator_id':\n",
    "filtred_data = data[~data['operator_id'].isna()].reset_index(drop = True)\n",
    "\n",
    "# se muestra la cantidad de datos resultantes:\n",
    "print(\"Después de filtar las filas que no tienen el 'operador_id', se tiene un total de:\", len(filtred_data), 'filas.')"
   ]
  },
  {
   "cell_type": "code",
   "execution_count": 17,
   "metadata": {
    "colab": {
     "base_uri": "https://localhost:8080/",
     "height": 366
    },
    "id": "xEWB5nPIX2Um",
    "outputId": "e5b297d6-d6c6-45ac-fc0d-172cf5f24824"
   },
   "outputs": [
    {
     "data": {
      "text/plain": [
       "user_id                 0\n",
       "date                    0\n",
       "direction               0\n",
       "internal               55\n",
       "operator_id             0\n",
       "is_missed_call          0\n",
       "calls_count             0\n",
       "call_duration           0\n",
       "total_call_duration     0\n",
       "dtype: int64"
      ]
     },
     "execution_count": 17,
     "metadata": {},
     "output_type": "execute_result"
    }
   ],
   "source": [
    "# Se realiza un nuevo conteo de valores ausentes:\n",
    "filtred_data.isna().sum()"
   ]
  },
  {
   "cell_type": "code",
   "execution_count": 18,
   "metadata": {
    "colab": {
     "base_uri": "https://localhost:8080/",
     "height": 313
    },
    "id": "rOT9suY7X2Um",
    "outputId": "3dbb6b60-3578-4d10-ad96-08873f6dbbfd"
   },
   "outputs": [
    {
     "data": {
      "text/html": [
       "<div>\n",
       "<style scoped>\n",
       "    .dataframe tbody tr th:only-of-type {\n",
       "        vertical-align: middle;\n",
       "    }\n",
       "\n",
       "    .dataframe tbody tr th {\n",
       "        vertical-align: top;\n",
       "    }\n",
       "\n",
       "    .dataframe thead th {\n",
       "        text-align: right;\n",
       "    }\n",
       "</style>\n",
       "<table border=\"1\" class=\"dataframe\">\n",
       "  <thead>\n",
       "    <tr style=\"text-align: right;\">\n",
       "      <th></th>\n",
       "      <th>user_id</th>\n",
       "      <th>date</th>\n",
       "      <th>direction</th>\n",
       "      <th>internal</th>\n",
       "      <th>operator_id</th>\n",
       "      <th>is_missed_call</th>\n",
       "      <th>calls_count</th>\n",
       "      <th>call_duration</th>\n",
       "      <th>total_call_duration</th>\n",
       "    </tr>\n",
       "  </thead>\n",
       "  <tbody>\n",
       "    <tr>\n",
       "      <th>0</th>\n",
       "      <td>166377</td>\n",
       "      <td>2019-08-05 00:00:00+03:00</td>\n",
       "      <td>out</td>\n",
       "      <td>True</td>\n",
       "      <td>880022</td>\n",
       "      <td>True</td>\n",
       "      <td>3</td>\n",
       "      <td>0</td>\n",
       "      <td>5</td>\n",
       "    </tr>\n",
       "    <tr>\n",
       "      <th>1</th>\n",
       "      <td>166377</td>\n",
       "      <td>2019-08-05 00:00:00+03:00</td>\n",
       "      <td>out</td>\n",
       "      <td>True</td>\n",
       "      <td>880020</td>\n",
       "      <td>True</td>\n",
       "      <td>1</td>\n",
       "      <td>0</td>\n",
       "      <td>1</td>\n",
       "    </tr>\n",
       "    <tr>\n",
       "      <th>2</th>\n",
       "      <td>166377</td>\n",
       "      <td>2019-08-05 00:00:00+03:00</td>\n",
       "      <td>out</td>\n",
       "      <td>True</td>\n",
       "      <td>880020</td>\n",
       "      <td>False</td>\n",
       "      <td>1</td>\n",
       "      <td>10</td>\n",
       "      <td>18</td>\n",
       "    </tr>\n",
       "    <tr>\n",
       "      <th>3</th>\n",
       "      <td>166377</td>\n",
       "      <td>2019-08-05 00:00:00+03:00</td>\n",
       "      <td>out</td>\n",
       "      <td>False</td>\n",
       "      <td>880022</td>\n",
       "      <td>True</td>\n",
       "      <td>3</td>\n",
       "      <td>0</td>\n",
       "      <td>25</td>\n",
       "    </tr>\n",
       "    <tr>\n",
       "      <th>4</th>\n",
       "      <td>166377</td>\n",
       "      <td>2019-08-05 00:00:00+03:00</td>\n",
       "      <td>out</td>\n",
       "      <td>False</td>\n",
       "      <td>880020</td>\n",
       "      <td>False</td>\n",
       "      <td>2</td>\n",
       "      <td>3</td>\n",
       "      <td>29</td>\n",
       "    </tr>\n",
       "  </tbody>\n",
       "</table>\n",
       "</div>"
      ],
      "text/plain": [
       "   user_id                      date direction internal  operator_id  \\\n",
       "0   166377 2019-08-05 00:00:00+03:00       out     True       880022   \n",
       "1   166377 2019-08-05 00:00:00+03:00       out     True       880020   \n",
       "2   166377 2019-08-05 00:00:00+03:00       out     True       880020   \n",
       "3   166377 2019-08-05 00:00:00+03:00       out    False       880022   \n",
       "4   166377 2019-08-05 00:00:00+03:00       out    False       880020   \n",
       "\n",
       "   is_missed_call  calls_count  call_duration  total_call_duration  \n",
       "0            True            3              0                    5  \n",
       "1            True            1              0                    1  \n",
       "2           False            1             10                   18  \n",
       "3            True            3              0                   25  \n",
       "4           False            2              3                   29  "
      ]
     },
     "execution_count": 18,
     "metadata": {},
     "output_type": "execute_result"
    }
   ],
   "source": [
    "# Se crea una copia de los datos en la cual se excluyen las filas con valores ausentes en la columna de 'operator_id'\n",
    "filtred_data = data[~data['operator_id'].isna()].reset_index(drop = True)\n",
    "\n",
    "# se cambia el tipo de dato de la columna 'operator_id' de float a int:\n",
    "filtred_data['operator_id'] = filtred_data['operator_id'].astype(int)\n",
    "\n",
    "# Se muestran las primeras 5 filas del nuevo dataframe:\n",
    "filtred_data.head()"
   ]
  },
  {
   "cell_type": "code",
   "execution_count": 19,
   "metadata": {
    "colab": {
     "base_uri": "https://localhost:8080/",
     "height": 366
    },
    "id": "KobxOv0FX2Un",
    "outputId": "81645c27-a27a-426a-f7ee-74e402ba3800"
   },
   "outputs": [
    {
     "data": {
      "text/plain": [
       "user_id                 0\n",
       "date                    0\n",
       "direction               0\n",
       "internal               55\n",
       "operator_id             0\n",
       "is_missed_call          0\n",
       "calls_count             0\n",
       "call_duration           0\n",
       "total_call_duration     0\n",
       "dtype: int64"
      ]
     },
     "execution_count": 19,
     "metadata": {},
     "output_type": "execute_result"
    }
   ],
   "source": [
    "# Se realiza un nuevo conteo de los valores ausentes en las columnas:\n",
    "filtred_data.isna().sum()"
   ]
  },
  {
   "cell_type": "markdown",
   "metadata": {
    "id": "MSlz3XRTX2Un"
   },
   "source": [
    "**Conclusión:** Se han eliminado las filas con valores ausentes en la columna de **'operator_id'** ya que el obejtivo del análisis es determinar cuales son los operadores menos eficaces y si no se cuenta con el **id** de los operadores, no tiene sentido conservarlos."
   ]
  },
  {
   "cell_type": "markdown",
   "metadata": {},
   "source": [
    "##### Enriquecer valores:"
   ]
  },
  {
   "cell_type": "markdown",
   "metadata": {},
   "source": [
    "Con el fin de realizar análisis posteriores, se agrega la columna de tiempo de espera a los datos."
   ]
  },
  {
   "cell_type": "code",
   "execution_count": 20,
   "metadata": {},
   "outputs": [],
   "source": [
    "filtred_data['timeout'] = filtred_data['total_call_duration'] - filtred_data['call_duration']"
   ]
  },
  {
   "cell_type": "markdown",
   "metadata": {
    "id": "PHxVLxMRX2Un"
   },
   "source": [
    "#### Dataframe \"clients\":"
   ]
  },
  {
   "cell_type": "markdown",
   "metadata": {
    "id": "pzFOmXlKX2Uo"
   },
   "source": [
    "##### Cambiar el tipo de dato de la columna 'date_start' de object a datetime:"
   ]
  },
  {
   "cell_type": "code",
   "execution_count": 21,
   "metadata": {
    "colab": {
     "base_uri": "https://localhost:8080/"
    },
    "id": "WJJjE3UFX2Uo",
    "outputId": "5edab486-b9a6-4980-f5bc-2b60bae5410d"
   },
   "outputs": [
    {
     "name": "stdout",
     "output_type": "stream",
     "text": [
      "<class 'pandas.core.frame.DataFrame'>\n",
      "RangeIndex: 732 entries, 0 to 731\n",
      "Data columns (total 3 columns):\n",
      " #   Column       Non-Null Count  Dtype         \n",
      "---  ------       --------------  -----         \n",
      " 0   user_id      732 non-null    int64         \n",
      " 1   tariff_plan  732 non-null    object        \n",
      " 2   date_start   732 non-null    datetime64[ns]\n",
      "dtypes: datetime64[ns](1), int64(1), object(1)\n",
      "memory usage: 17.3+ KB\n"
     ]
    }
   ],
   "source": [
    "# Se cambia el tipo de dato de la columna 'date_start' a datetime:\n",
    "clients['date_start'] = pd.to_datetime(clients['date_start'])\n",
    "\n",
    "# Se comprueba que el cambio se ha ejecutado correctamente:\n",
    "clients.info()"
   ]
  },
  {
   "cell_type": "markdown",
   "metadata": {
    "id": "bMRuimsZX2Uo"
   },
   "source": [
    "**Conclusión:** Se ha cambiado el tipo de dato de la columna 'date_start' de object a datetime:"
   ]
  },
  {
   "cell_type": "markdown",
   "metadata": {
    "id": "Mjhpvn_GX2Up"
   },
   "source": [
    "## Identificar operadores ineficaces:"
   ]
  },
  {
   "cell_type": "markdown",
   "metadata": {
    "id": "9uCLZaW-X2Up"
   },
   "source": [
    "**Recordando que se considera un operador ineficaz a aquel que:**\n",
    "\n",
    "* Tiene una gran cantidad de llamadas entrantes perdidas (internas y externas).\n",
    "\n",
    "* Tiene un tiempo de espera prolongado para las llamadas entrantes.\n",
    "\n",
    "* Si se supone que un operador debe realizar llamadas salientes, un número reducido de ellas también será un signo de ineficacia."
   ]
  },
  {
   "cell_type": "markdown",
   "metadata": {},
   "source": [
    "### Se estudia el intervalo de tiempo al que corresponde el estudio:"
   ]
  },
  {
   "cell_type": "code",
   "execution_count": 22,
   "metadata": {},
   "outputs": [
    {
     "name": "stdout",
     "output_type": "stream",
     "text": [
      "El intervalo de tiempo en el cual se distrbuyen los datos es desde el 2019-08-02 00:00:00+03:00 hasta el 2019-11-28 00:00:00+03:00\n"
     ]
    }
   ],
   "source": [
    "print('El intervalo de tiempo en el cual se distrbuyen los datos es desde el', data['date'].min(), 'hasta el',\n",
    "      data['date'].max())"
   ]
  },
  {
   "cell_type": "markdown",
   "metadata": {},
   "source": [
    "**Conclusión:** Esto quiere decir que los datos abarcan un lapo de 4 meses aproximadamente."
   ]
  },
  {
   "cell_type": "markdown",
   "metadata": {
    "id": "l8EKRnVhX2Uq"
   },
   "source": [
    "### Se determina la cantidad de llamadas entrantes perdidas para cada operador:"
   ]
  },
  {
   "cell_type": "code",
   "execution_count": 23,
   "metadata": {
    "colab": {
     "base_uri": "https://localhost:8080/",
     "height": 441
    },
    "id": "6yTdf3O6X2Uq",
    "outputId": "c3b7c857-bf02-44bc-e63c-101582ae025a"
   },
   "outputs": [
    {
     "name": "stdout",
     "output_type": "stream",
     "text": [
      "La cantidad de llamadas entrantes perdidas para cada operador, es:\n"
     ]
    },
    {
     "data": {
      "text/html": [
       "<div>\n",
       "<style scoped>\n",
       "    .dataframe tbody tr th:only-of-type {\n",
       "        vertical-align: middle;\n",
       "    }\n",
       "\n",
       "    .dataframe tbody tr th {\n",
       "        vertical-align: top;\n",
       "    }\n",
       "\n",
       "    .dataframe thead th {\n",
       "        text-align: right;\n",
       "    }\n",
       "</style>\n",
       "<table border=\"1\" class=\"dataframe\">\n",
       "  <thead>\n",
       "    <tr style=\"text-align: right;\">\n",
       "      <th></th>\n",
       "      <th>operator_id</th>\n",
       "      <th>n_missed_calls</th>\n",
       "    </tr>\n",
       "  </thead>\n",
       "  <tbody>\n",
       "    <tr>\n",
       "      <th>0</th>\n",
       "      <td>882680</td>\n",
       "      <td>3</td>\n",
       "    </tr>\n",
       "    <tr>\n",
       "      <th>1</th>\n",
       "      <td>882684</td>\n",
       "      <td>4</td>\n",
       "    </tr>\n",
       "    <tr>\n",
       "      <th>2</th>\n",
       "      <td>882686</td>\n",
       "      <td>6</td>\n",
       "    </tr>\n",
       "    <tr>\n",
       "      <th>3</th>\n",
       "      <td>882690</td>\n",
       "      <td>2</td>\n",
       "    </tr>\n",
       "    <tr>\n",
       "      <th>4</th>\n",
       "      <td>884408</td>\n",
       "      <td>4</td>\n",
       "    </tr>\n",
       "    <tr>\n",
       "      <th>...</th>\n",
       "      <td>...</td>\n",
       "      <td>...</td>\n",
       "    </tr>\n",
       "    <tr>\n",
       "      <th>234</th>\n",
       "      <td>959312</td>\n",
       "      <td>7</td>\n",
       "    </tr>\n",
       "    <tr>\n",
       "      <th>235</th>\n",
       "      <td>960620</td>\n",
       "      <td>1</td>\n",
       "    </tr>\n",
       "    <tr>\n",
       "      <th>236</th>\n",
       "      <td>964510</td>\n",
       "      <td>2</td>\n",
       "    </tr>\n",
       "    <tr>\n",
       "      <th>237</th>\n",
       "      <td>964666</td>\n",
       "      <td>3</td>\n",
       "    </tr>\n",
       "    <tr>\n",
       "      <th>238</th>\n",
       "      <td>969272</td>\n",
       "      <td>1</td>\n",
       "    </tr>\n",
       "  </tbody>\n",
       "</table>\n",
       "<p>239 rows × 2 columns</p>\n",
       "</div>"
      ],
      "text/plain": [
       "     operator_id  n_missed_calls\n",
       "0         882680               3\n",
       "1         882684               4\n",
       "2         882686               6\n",
       "3         882690               2\n",
       "4         884408               4\n",
       "..           ...             ...\n",
       "234       959312               7\n",
       "235       960620               1\n",
       "236       964510               2\n",
       "237       964666               3\n",
       "238       969272               1\n",
       "\n",
       "[239 rows x 2 columns]"
      ]
     },
     "execution_count": 23,
     "metadata": {},
     "output_type": "execute_result"
    }
   ],
   "source": [
    "# Se agrupan los datos por operador calculando la cantidad de llamadas emtrantes perdidas:\n",
    "missed_calls = (filtred_data[(filtred_data['is_missed_call'] == True) & (filtred_data['direction'] == 'in')]\n",
    "                              .groupby('operator_id')['calls_count'].sum().reset_index())\n",
    "\n",
    "# Se asigna un nombre descriptivo a la columna de agregación:\n",
    "missed_calls.rename(columns = {'calls_count': 'n_missed_calls'}, inplace = True)\n",
    "\n",
    "# Se muestra la cantidad de llamadas perdidas para cada operador:\n",
    "print('La cantidad de llamadas entrantes perdidas para cada operador, es:')\n",
    "missed_calls"
   ]
  },
  {
   "cell_type": "markdown",
   "metadata": {
    "id": "MRuoCGaXX2Uq"
   },
   "source": [
    "### Se determina el tiempo de espera para las llamadas entrantes para cada operador:"
   ]
  },
  {
   "cell_type": "code",
   "execution_count": 24,
   "metadata": {
    "colab": {
     "base_uri": "https://localhost:8080/",
     "height": 441
    },
    "id": "AmtCwi1PX2Ur",
    "outputId": "20000a91-54f2-4338-c0e2-18755ed7c22b"
   },
   "outputs": [
    {
     "name": "stdout",
     "output_type": "stream",
     "text": [
      "El tiempo promedio de espera para las llamadas entrantes para cada oeprador, es:\n"
     ]
    },
    {
     "data": {
      "text/html": [
       "<div>\n",
       "<style scoped>\n",
       "    .dataframe tbody tr th:only-of-type {\n",
       "        vertical-align: middle;\n",
       "    }\n",
       "\n",
       "    .dataframe tbody tr th {\n",
       "        vertical-align: top;\n",
       "    }\n",
       "\n",
       "    .dataframe thead th {\n",
       "        text-align: right;\n",
       "    }\n",
       "</style>\n",
       "<table border=\"1\" class=\"dataframe\">\n",
       "  <thead>\n",
       "    <tr style=\"text-align: right;\">\n",
       "      <th></th>\n",
       "      <th>operator_id</th>\n",
       "      <th>timeout</th>\n",
       "    </tr>\n",
       "  </thead>\n",
       "  <tbody>\n",
       "    <tr>\n",
       "      <th>0</th>\n",
       "      <td>879896</td>\n",
       "      <td>27.333333</td>\n",
       "    </tr>\n",
       "    <tr>\n",
       "      <th>1</th>\n",
       "      <td>879898</td>\n",
       "      <td>29.473684</td>\n",
       "    </tr>\n",
       "    <tr>\n",
       "      <th>2</th>\n",
       "      <td>880020</td>\n",
       "      <td>7.714286</td>\n",
       "    </tr>\n",
       "    <tr>\n",
       "      <th>3</th>\n",
       "      <td>880022</td>\n",
       "      <td>14.000000</td>\n",
       "    </tr>\n",
       "    <tr>\n",
       "      <th>4</th>\n",
       "      <td>880026</td>\n",
       "      <td>7.944444</td>\n",
       "    </tr>\n",
       "    <tr>\n",
       "      <th>...</th>\n",
       "      <td>...</td>\n",
       "      <td>...</td>\n",
       "    </tr>\n",
       "    <tr>\n",
       "      <th>749</th>\n",
       "      <td>971102</td>\n",
       "      <td>338.000000</td>\n",
       "    </tr>\n",
       "    <tr>\n",
       "      <th>750</th>\n",
       "      <td>971354</td>\n",
       "      <td>42.000000</td>\n",
       "    </tr>\n",
       "    <tr>\n",
       "      <th>751</th>\n",
       "      <td>972412</td>\n",
       "      <td>25.000000</td>\n",
       "    </tr>\n",
       "    <tr>\n",
       "      <th>752</th>\n",
       "      <td>972460</td>\n",
       "      <td>4.000000</td>\n",
       "    </tr>\n",
       "    <tr>\n",
       "      <th>753</th>\n",
       "      <td>973286</td>\n",
       "      <td>88.000000</td>\n",
       "    </tr>\n",
       "  </tbody>\n",
       "</table>\n",
       "<p>754 rows × 2 columns</p>\n",
       "</div>"
      ],
      "text/plain": [
       "     operator_id     timeout\n",
       "0         879896   27.333333\n",
       "1         879898   29.473684\n",
       "2         880020    7.714286\n",
       "3         880022   14.000000\n",
       "4         880026    7.944444\n",
       "..           ...         ...\n",
       "749       971102  338.000000\n",
       "750       971354   42.000000\n",
       "751       972412   25.000000\n",
       "752       972460    4.000000\n",
       "753       973286   88.000000\n",
       "\n",
       "[754 rows x 2 columns]"
      ]
     },
     "execution_count": 24,
     "metadata": {},
     "output_type": "execute_result"
    }
   ],
   "source": [
    "# Se filtran las llamadas entrantes y se agrupan los valores por la identificación del operador usando para la agregación\n",
    "# la duración total de las llamadas (incluyendo el tiempo de espera), la duración total de las llamadas (sin incluir el\n",
    "# tiempo de espera) y la cantidad de llamadas:\n",
    "timeout = filtred_data[filtred_data['direction']=='in'].groupby('operator_id').agg({'timeout': 'mean'}).reset_index()\n",
    "\n",
    "# Se conservan solo el número de identificación de cada operador y el tiempo de espera promedio:\n",
    "timeout = timeout[['operator_id', 'timeout']]\n",
    "\n",
    "# Se muestra la cantidad de llamadas salientes para cada operador:\n",
    "print('El tiempo promedio de espera para las llamadas entrantes para cada oeprador, es:')\n",
    "timeout"
   ]
  },
  {
   "cell_type": "markdown",
   "metadata": {
    "id": "vY1BjFMuX2Ur"
   },
   "source": [
    "### Se calcula la cantidad de llamadas salientes de cada operador:"
   ]
  },
  {
   "cell_type": "code",
   "execution_count": 25,
   "metadata": {
    "colab": {
     "base_uri": "https://localhost:8080/",
     "height": 441
    },
    "id": "ZavNA1P7X2Ur",
    "outputId": "5893228c-a3bb-4911-a714-f0f167b6d017"
   },
   "outputs": [
    {
     "name": "stdout",
     "output_type": "stream",
     "text": [
      "La cantidad de llamadas salientes para cada operador, es:\n"
     ]
    },
    {
     "data": {
      "text/html": [
       "<div>\n",
       "<style scoped>\n",
       "    .dataframe tbody tr th:only-of-type {\n",
       "        vertical-align: middle;\n",
       "    }\n",
       "\n",
       "    .dataframe tbody tr th {\n",
       "        vertical-align: top;\n",
       "    }\n",
       "\n",
       "    .dataframe thead th {\n",
       "        text-align: right;\n",
       "    }\n",
       "</style>\n",
       "<table border=\"1\" class=\"dataframe\">\n",
       "  <thead>\n",
       "    <tr style=\"text-align: right;\">\n",
       "      <th></th>\n",
       "      <th>operator_id</th>\n",
       "      <th>n_outbound_calls</th>\n",
       "    </tr>\n",
       "  </thead>\n",
       "  <tbody>\n",
       "    <tr>\n",
       "      <th>0</th>\n",
       "      <td>879896</td>\n",
       "      <td>872</td>\n",
       "    </tr>\n",
       "    <tr>\n",
       "      <th>1</th>\n",
       "      <td>879898</td>\n",
       "      <td>7209</td>\n",
       "    </tr>\n",
       "    <tr>\n",
       "      <th>2</th>\n",
       "      <td>880020</td>\n",
       "      <td>38</td>\n",
       "    </tr>\n",
       "    <tr>\n",
       "      <th>3</th>\n",
       "      <td>880022</td>\n",
       "      <td>189</td>\n",
       "    </tr>\n",
       "    <tr>\n",
       "      <th>4</th>\n",
       "      <td>880026</td>\n",
       "      <td>2208</td>\n",
       "    </tr>\n",
       "    <tr>\n",
       "      <th>...</th>\n",
       "      <td>...</td>\n",
       "      <td>...</td>\n",
       "    </tr>\n",
       "    <tr>\n",
       "      <th>877</th>\n",
       "      <td>972408</td>\n",
       "      <td>6</td>\n",
       "    </tr>\n",
       "    <tr>\n",
       "      <th>878</th>\n",
       "      <td>972410</td>\n",
       "      <td>77</td>\n",
       "    </tr>\n",
       "    <tr>\n",
       "      <th>879</th>\n",
       "      <td>972412</td>\n",
       "      <td>60</td>\n",
       "    </tr>\n",
       "    <tr>\n",
       "      <th>880</th>\n",
       "      <td>972460</td>\n",
       "      <td>50</td>\n",
       "    </tr>\n",
       "    <tr>\n",
       "      <th>881</th>\n",
       "      <td>973120</td>\n",
       "      <td>3</td>\n",
       "    </tr>\n",
       "  </tbody>\n",
       "</table>\n",
       "<p>882 rows × 2 columns</p>\n",
       "</div>"
      ],
      "text/plain": [
       "     operator_id  n_outbound_calls\n",
       "0         879896               872\n",
       "1         879898              7209\n",
       "2         880020                38\n",
       "3         880022               189\n",
       "4         880026              2208\n",
       "..           ...               ...\n",
       "877       972408                 6\n",
       "878       972410                77\n",
       "879       972412                60\n",
       "880       972460                50\n",
       "881       973120                 3\n",
       "\n",
       "[882 rows x 2 columns]"
      ]
     },
     "execution_count": 25,
     "metadata": {},
     "output_type": "execute_result"
    }
   ],
   "source": [
    "# Se calcula el número de llamadas salientes para cada operador:\n",
    "outbound_calls = filtred_data[filtred_data['direction'] == 'out'].groupby('operator_id')['calls_count'].sum().reset_index()\n",
    "\n",
    "# Se cambia el nombre de la columna de agregación por un nombre descriptivo:\n",
    "outbound_calls.rename(columns = {'calls_count': 'n_outbound_calls'}, inplace = True)\n",
    "\n",
    "# Se muestra la cantidad de llamadas perdidas para cada operador:\n",
    "print('La cantidad de llamadas salientes para cada operador, es:')\n",
    "outbound_calls"
   ]
  },
  {
   "cell_type": "markdown",
   "metadata": {
    "id": "POdWsoq0X2Us"
   },
   "source": [
    "### Se unifican en una sola tabla todos los datos para cada operador:"
   ]
  },
  {
   "cell_type": "code",
   "execution_count": null,
   "metadata": {
    "colab": {
     "base_uri": "https://localhost:8080/",
     "height": 441
    },
    "id": "CCgS7xldX2Us",
    "outputId": "5f38d235-a7de-4457-86a0-12261cf8e24f"
   },
   "outputs": [
    {
     "name": "stdout",
     "output_type": "stream",
     "text": [
      "Tabla con el resumen de la información para cada operador:\n"
     ]
    },
    {
     "data": {
      "text/html": [
       "<div>\n",
       "<style scoped>\n",
       "    .dataframe tbody tr th:only-of-type {\n",
       "        vertical-align: middle;\n",
       "    }\n",
       "\n",
       "    .dataframe tbody tr th {\n",
       "        vertical-align: top;\n",
       "    }\n",
       "\n",
       "    .dataframe thead th {\n",
       "        text-align: right;\n",
       "    }\n",
       "</style>\n",
       "<table border=\"1\" class=\"dataframe\">\n",
       "  <thead>\n",
       "    <tr style=\"text-align: right;\">\n",
       "      <th></th>\n",
       "      <th>operator_id</th>\n",
       "      <th>n_missed_calls</th>\n",
       "      <th>timeout</th>\n",
       "      <th>n_outbound_calls</th>\n",
       "    </tr>\n",
       "  </thead>\n",
       "  <tbody>\n",
       "    <tr>\n",
       "      <th>0</th>\n",
       "      <td>882680</td>\n",
       "      <td>3</td>\n",
       "      <td>37.000000</td>\n",
       "      <td>NaN</td>\n",
       "    </tr>\n",
       "    <tr>\n",
       "      <th>1</th>\n",
       "      <td>882684</td>\n",
       "      <td>4</td>\n",
       "      <td>190.520000</td>\n",
       "      <td>661.0</td>\n",
       "    </tr>\n",
       "    <tr>\n",
       "      <th>2</th>\n",
       "      <td>882686</td>\n",
       "      <td>6</td>\n",
       "      <td>165.750000</td>\n",
       "      <td>2884.0</td>\n",
       "    </tr>\n",
       "    <tr>\n",
       "      <th>3</th>\n",
       "      <td>882690</td>\n",
       "      <td>2</td>\n",
       "      <td>322.818182</td>\n",
       "      <td>1417.0</td>\n",
       "    </tr>\n",
       "    <tr>\n",
       "      <th>4</th>\n",
       "      <td>884408</td>\n",
       "      <td>4</td>\n",
       "      <td>66.000000</td>\n",
       "      <td>25.0</td>\n",
       "    </tr>\n",
       "    <tr>\n",
       "      <th>...</th>\n",
       "      <td>...</td>\n",
       "      <td>...</td>\n",
       "      <td>...</td>\n",
       "      <td>...</td>\n",
       "    </tr>\n",
       "    <tr>\n",
       "      <th>234</th>\n",
       "      <td>959312</td>\n",
       "      <td>7</td>\n",
       "      <td>32.153846</td>\n",
       "      <td>145.0</td>\n",
       "    </tr>\n",
       "    <tr>\n",
       "      <th>235</th>\n",
       "      <td>960620</td>\n",
       "      <td>1</td>\n",
       "      <td>74.800000</td>\n",
       "      <td>58.0</td>\n",
       "    </tr>\n",
       "    <tr>\n",
       "      <th>236</th>\n",
       "      <td>964510</td>\n",
       "      <td>2</td>\n",
       "      <td>25.000000</td>\n",
       "      <td>131.0</td>\n",
       "    </tr>\n",
       "    <tr>\n",
       "      <th>237</th>\n",
       "      <td>964666</td>\n",
       "      <td>3</td>\n",
       "      <td>64.222222</td>\n",
       "      <td>814.0</td>\n",
       "    </tr>\n",
       "    <tr>\n",
       "      <th>238</th>\n",
       "      <td>969272</td>\n",
       "      <td>1</td>\n",
       "      <td>233.375000</td>\n",
       "      <td>228.0</td>\n",
       "    </tr>\n",
       "  </tbody>\n",
       "</table>\n",
       "<p>239 rows × 4 columns</p>\n",
       "</div>"
      ],
      "text/plain": [
       "     operator_id  n_missed_calls     timeout  n_outbound_calls\n",
       "0         882680               3   37.000000               NaN\n",
       "1         882684               4  190.520000             661.0\n",
       "2         882686               6  165.750000            2884.0\n",
       "3         882690               2  322.818182            1417.0\n",
       "4         884408               4   66.000000              25.0\n",
       "..           ...             ...         ...               ...\n",
       "234       959312               7   32.153846             145.0\n",
       "235       960620               1   74.800000              58.0\n",
       "236       964510               2   25.000000             131.0\n",
       "237       964666               3   64.222222             814.0\n",
       "238       969272               1  233.375000             228.0\n",
       "\n",
       "[239 rows x 4 columns]"
      ]
     },
     "execution_count": 26,
     "metadata": {},
     "output_type": "execute_result"
    }
   ],
   "source": [
    "# Se une la información de la cantidad de llamadas perdidas con el tiempo de espera de las llamadas entrantes para cada operador:\n",
    "summary = pd.merge(missed_calls, timeout, how = 'outer', on = 'operator_id')\n",
    "\n",
    "# Se une la información de resumen con la cantidad de llamadas salientes para cada operador:\n",
    "summary = pd.merge(summary, outbound_calls, how = 'outer', on = 'operator_id')\n",
    "\n",
    "# Se muestra el resumen de información para cada operador:\n",
    "print('Tabla con el resumen de la información para cada operador:')\n",
    "summary"
   ]
  },
  {
   "cell_type": "code",
   "execution_count": 27,
   "metadata": {
    "colab": {
     "base_uri": "https://localhost:8080/",
     "height": 227
    },
    "id": "eBXMFrlnX2Ut",
    "outputId": "f168da17-fe0b-4968-e2ca-f186ac513a78"
   },
   "outputs": [
    {
     "name": "stdout",
     "output_type": "stream",
     "text": [
      "La cantidad de valores ausentes de la tabla de resumen, es:\n"
     ]
    },
    {
     "data": {
      "text/plain": [
       "operator_id          0\n",
       "n_missed_calls       0\n",
       "timeout              0\n",
       "n_outbound_calls    41\n",
       "dtype: int64"
      ]
     },
     "execution_count": 27,
     "metadata": {},
     "output_type": "execute_result"
    }
   ],
   "source": [
    "# Se cuenta la cantidad de valores ausentes en las columnas de la tabla de resumen:\n",
    "print('La cantidad de valores ausentes de la tabla de resumen, es:')\n",
    "summary.isna().sum()"
   ]
  },
  {
   "cell_type": "markdown",
   "metadata": {
    "id": "ZEXKoPYFX2Ut"
   },
   "source": [
    "## Como no se cuenta con la información precisa (ya que en algunas filas se encontraba ausente la identificación del operador), se entiende que si no aparecieron valores en las llamadas salientes es porque el trabajador no realizó llamadas salientes por lo que se procede a llenar los valores vacíos con cero (0)."
   ]
  },
  {
   "cell_type": "code",
   "execution_count": 28,
   "metadata": {
    "colab": {
     "base_uri": "https://localhost:8080/"
    },
    "id": "SuGTBMDaX2Ut",
    "outputId": "ea1b65da-6051-46d4-8193-374a0976ba56"
   },
   "outputs": [],
   "source": [
    "summary['n_outbound_calls'].fillna(0, inplace = True)"
   ]
  },
  {
   "cell_type": "markdown",
   "metadata": {
    "id": "y3KYCzujX2Uu"
   },
   "source": [
    "### Se muestran algunas estadísticas de los datos:"
   ]
  },
  {
   "cell_type": "code",
   "execution_count": 29,
   "metadata": {
    "colab": {
     "base_uri": "https://localhost:8080/",
     "height": 300
    },
    "id": "5IawR1r_X2Uu",
    "outputId": "891145b6-da67-477d-9ca6-e0457b7cd8f0"
   },
   "outputs": [
    {
     "data": {
      "text/html": [
       "<div>\n",
       "<style scoped>\n",
       "    .dataframe tbody tr th:only-of-type {\n",
       "        vertical-align: middle;\n",
       "    }\n",
       "\n",
       "    .dataframe tbody tr th {\n",
       "        vertical-align: top;\n",
       "    }\n",
       "\n",
       "    .dataframe thead th {\n",
       "        text-align: right;\n",
       "    }\n",
       "</style>\n",
       "<table border=\"1\" class=\"dataframe\">\n",
       "  <thead>\n",
       "    <tr style=\"text-align: right;\">\n",
       "      <th></th>\n",
       "      <th>n_missed_calls</th>\n",
       "      <th>timeout</th>\n",
       "      <th>n_outbound_calls</th>\n",
       "    </tr>\n",
       "  </thead>\n",
       "  <tbody>\n",
       "    <tr>\n",
       "      <th>count</th>\n",
       "      <td>239.000000</td>\n",
       "      <td>239.000000</td>\n",
       "      <td>239.000000</td>\n",
       "    </tr>\n",
       "    <tr>\n",
       "      <th>mean</th>\n",
       "      <td>3.874477</td>\n",
       "      <td>100.166653</td>\n",
       "      <td>1034.338912</td>\n",
       "    </tr>\n",
       "    <tr>\n",
       "      <th>std</th>\n",
       "      <td>5.943089</td>\n",
       "      <td>135.395295</td>\n",
       "      <td>5503.191958</td>\n",
       "    </tr>\n",
       "    <tr>\n",
       "      <th>min</th>\n",
       "      <td>1.000000</td>\n",
       "      <td>1.461538</td>\n",
       "      <td>0.000000</td>\n",
       "    </tr>\n",
       "    <tr>\n",
       "      <th>25%</th>\n",
       "      <td>1.000000</td>\n",
       "      <td>30.166447</td>\n",
       "      <td>15.500000</td>\n",
       "    </tr>\n",
       "    <tr>\n",
       "      <th>50%</th>\n",
       "      <td>2.000000</td>\n",
       "      <td>53.000000</td>\n",
       "      <td>138.000000</td>\n",
       "    </tr>\n",
       "    <tr>\n",
       "      <th>75%</th>\n",
       "      <td>4.000000</td>\n",
       "      <td>111.099673</td>\n",
       "      <td>671.000000</td>\n",
       "    </tr>\n",
       "    <tr>\n",
       "      <th>max</th>\n",
       "      <td>52.000000</td>\n",
       "      <td>1007.375000</td>\n",
       "      <td>58977.000000</td>\n",
       "    </tr>\n",
       "  </tbody>\n",
       "</table>\n",
       "</div>"
      ],
      "text/plain": [
       "       n_missed_calls      timeout  n_outbound_calls\n",
       "count      239.000000   239.000000        239.000000\n",
       "mean         3.874477   100.166653       1034.338912\n",
       "std          5.943089   135.395295       5503.191958\n",
       "min          1.000000     1.461538          0.000000\n",
       "25%          1.000000    30.166447         15.500000\n",
       "50%          2.000000    53.000000        138.000000\n",
       "75%          4.000000   111.099673        671.000000\n",
       "max         52.000000  1007.375000      58977.000000"
      ]
     },
     "execution_count": 29,
     "metadata": {},
     "output_type": "execute_result"
    }
   ],
   "source": [
    "summary[['n_missed_calls', 'timeout', 'n_outbound_calls']].describe()"
   ]
  },
  {
   "cell_type": "markdown",
   "metadata": {
    "id": "sX7YTPRNX2Uu"
   },
   "source": [
    "**Conclusiones:**\n",
    "\n",
    "* La **cantidad de llamadas perdidas para cada operador** oscila entre **1** y **52** con una **media** de **3.87** llamadas perdidas por operador y el **tercer cuartil** se ubica en **4 llamadas perdidas** por operador y el **máximo** es de **52 llamadas perdidas**.\n",
    "\n",
    "* El **tiempo de espera** en **promedio** es de **16.34 segundos** por llamada, el **tercer cuartil** se ubica en **21.29 segundos**, y el **máximo** es de **49.65 segundos**.\n",
    "\n",
    "* La **cantidad de llamadas salientes** en **promedio** es de **1248.52**, el primer cuartil se ubica en **53 llamadas salientes**, siendo el mínimo de **1 llamada saliente**.\n",
    "\n",
    "* Al comparar la media (mean) de cada unas de las variables, se puede observar que esta es mayor que la moda (segundo cuartil), esto quiere decir que la **cantidad de llamadas perdidas**, el **tiempo de espera** y la **cantidad de llamadas salientes** tienen un sesgo hacia la derecha (esto se puede deducir al observar que la mediana es mayor que la moda). en éste sentido, la **cantidad de llamadas salientes** son las que presentan mayor sesgo entre las 3 variables analizadas.\n",
    "\n",
    "De acuerdo a estos valores antes mencionados, se procederá a establecer rangos de valores para identificar los trabajadores ineficaces."
   ]
  },
  {
   "cell_type": "markdown",
   "metadata": {
    "id": "Xfc3saNSX2Uv"
   },
   "source": [
    "### Se realizan diagramas de caja para cada variable:"
   ]
  },
  {
   "cell_type": "markdown",
   "metadata": {
    "id": "q87jfUXsX2Uv"
   },
   "source": [
    "#### Diagrama de caja de la cantidad de llamadas perdidas por operador:"
   ]
  },
  {
   "cell_type": "code",
   "execution_count": 30,
   "metadata": {
    "colab": {
     "base_uri": "https://localhost:8080/",
     "height": 853
    },
    "id": "BsrNXHj_X2Uw",
    "outputId": "b68be08c-65cf-4537-d4a0-0aa912b72b25"
   },
   "outputs": [
    {
     "data": {
      "image/png": "[encoded data removed]",
      "text/plain": [
       "<Figure size 1000x1000 with 1 Axes>"
      ]
     },
     "metadata": {},
     "output_type": "display_data"
    }
   ],
   "source": [
    "# Se realiza un diagrama de caja para la cantidad de llamadas perdidas:\n",
    "\n",
    "# Se configura el tamaño de la gráfica:\n",
    "plt.figure(figsize=(10, 10))\n",
    "\n",
    "# Se cargan los valores de la variable a la gráfica:\n",
    "summary[['n_missed_calls']].boxplot()\n",
    "\n",
    "# Se asigna el nombre de la gráfica:\n",
    "plt.title(\"Diagrama de caja para la cantidad de llamadas perdidas:\")\n",
    "\n",
    "# Se asigna nombre al eje \"y\":\n",
    "plt.ylabel(\"Cantidad de llamadas perdidas\")\n",
    "\n",
    "# Se muestra la gráfica:\n",
    "plt.show()"
   ]
  },
  {
   "cell_type": "markdown",
   "metadata": {
    "id": "YtmPxJBaX2Uw"
   },
   "source": [
    "#### Diagrama de caja del tiempo de espera de la llamadas entrantes para cada oeprador:"
   ]
  },
  {
   "cell_type": "code",
   "execution_count": 31,
   "metadata": {
    "colab": {
     "base_uri": "https://localhost:8080/",
     "height": 853
    },
    "id": "shbs0kKcX2Uw",
    "outputId": "15378549-9776-486a-ad03-e9e424660344"
   },
   "outputs": [
    {
     "data": {
      "image/png": "[encoded data removed]",
      "text/plain": [
       "<Figure size 1000x1000 with 1 Axes>"
      ]
     },
     "metadata": {},
     "output_type": "display_data"
    }
   ],
   "source": [
    "# Se realiza un diagrama de caja para el tiempo de espera de las llamadas entrantes:\n",
    "\n",
    "# Se configura el tamaño de la gráfica:\n",
    "plt.figure(figsize=(10, 10))\n",
    "\n",
    "# Se cargan los valores de la variable a la gráfica:\n",
    "summary[['timeout']].boxplot()\n",
    "\n",
    "# Se asigna el nombre de la gráfica:\n",
    "plt.title(\"Diagrama de caja para el tiempo de espera de las llamadas entrantes:\")\n",
    "\n",
    "# Se asigna nombre al eje \"y\":\n",
    "plt.ylabel(\"Tiempo de espera en segundos\")\n",
    "\n",
    "# Se muestra la gráfica:\n",
    "plt.show()"
   ]
  },
  {
   "cell_type": "markdown",
   "metadata": {
    "id": "9folj0ADX2Ux"
   },
   "source": [
    "#### Diagrama de caja de la cantidad de llamadas salientes para cada oeprador:"
   ]
  },
  {
   "cell_type": "code",
   "execution_count": 32,
   "metadata": {
    "colab": {
     "base_uri": "https://localhost:8080/",
     "height": 853
    },
    "id": "dNEYN_nEX2Ux",
    "outputId": "f08d1905-8b59-4171-a15a-479ad6a8d8d0"
   },
   "outputs": [
    {
     "data": {
      "image/png": "[encoded data removed]",
      "text/plain": [
       "<Figure size 1000x1000 with 1 Axes>"
      ]
     },
     "metadata": {},
     "output_type": "display_data"
    }
   ],
   "source": [
    "# Se realiza un diagrama de caja para el tiempo de espera de las llamadas entrantes:\n",
    "\n",
    "# Se configura el tamaño de la gráfica:\n",
    "plt.figure(figsize=(10, 10))\n",
    "\n",
    "# Se cargan los valores de la variable a la gráfica:\n",
    "summary[['n_outbound_calls']].boxplot()\n",
    "\n",
    "# Se asigna el nombre de la gráfica:\n",
    "plt.title(\"Diagrama de caja de la cantidad de llamadas salientes:\")\n",
    "\n",
    "# Se asigna nombre al eje \"y\":\n",
    "plt.ylabel(\"Cantidad de llamadas salientes\")\n",
    "\n",
    "# Se muestra la gráfica:\n",
    "plt.show()"
   ]
  },
  {
   "cell_type": "markdown",
   "metadata": {
    "id": "SK3T72FXXDGJ"
   },
   "source": [
    "**Conclisuiones:** Al igual que lo antes mencionado en las conclusiones del describe, se puede observar que todas las variables tienen sesgo hacia la derecha."
   ]
  },
  {
   "cell_type": "markdown",
   "metadata": {
    "id": "5itgDeHRX2Uy"
   },
   "source": [
    "### Se establece el rango de valores crítico para cada variable:"
   ]
  },
  {
   "cell_type": "markdown",
   "metadata": {
    "id": "4qJdlwLTX2Uy"
   },
   "source": [
    "#### Cantidad de llamadas entrantes perdidas:"
   ]
  },
  {
   "cell_type": "markdown",
   "metadata": {
    "id": "r5cYMzKOX2Uy"
   },
   "source": [
    "Se procede a definir el límite máximo de llamadas perdidas para considerar al trabajador como eficaz en el bigote superior de la gráfica de caja (al tratarse de una variable discreta, se redeondeará el valor hacia arriba dando así un poco más de tolerancia a los operadores)."
   ]
  },
  {
   "cell_type": "code",
   "execution_count": 33,
   "metadata": {
    "colab": {
     "base_uri": "https://localhost:8080/"
    },
    "id": "-7TxhxewX2Uz",
    "outputId": "f540fce3-baab-43d3-89e7-626353217f5d"
   },
   "outputs": [
    {
     "name": "stdout",
     "output_type": "stream",
     "text": [
      "La cantidad máxima de llamadas perdidas que se aceptarán para definir a un trabajador como eficaz, será de 9 llamadas.\n"
     ]
    }
   ],
   "source": [
    "# Se calcula el bigote superior de la gráfica de caja de la cantidad de llamadas perdidas\n",
    "whisker_missed = (mt.ceil(np.percentile(summary['n_missed_calls'], 75) + (np.percentile(summary['n_missed_calls'], 75)\n",
    "                                                                  - np.percentile(summary['n_missed_calls'], 25)) * 1.5))\n",
    "\n",
    "# Se muestra el límite máximo de llamadas perdidas:\n",
    "print('La cantidad máxima de llamadas perdidas que se aceptarán para definir a un trabajador como eficaz, será de',\n",
    "      whisker_missed, 'llamadas.')"
   ]
  },
  {
   "cell_type": "markdown",
   "metadata": {
    "id": "V0sl9YdCX2Uz"
   },
   "source": [
    "#### Tiempo de espera para las llamadas entrantes:"
   ]
  },
  {
   "cell_type": "markdown",
   "metadata": {
    "id": "sVT33ymzX2U0"
   },
   "source": [
    "Se procede a definir el límite máximo de tiempo de espera para las llamadas entrantes para considerar al trabajador como eficaz en el bigote superior de la gráfica de caja."
   ]
  },
  {
   "cell_type": "code",
   "execution_count": 34,
   "metadata": {
    "colab": {
     "base_uri": "https://localhost:8080/"
    },
    "id": "-0gkn2m7X2U0",
    "outputId": "eda9cc47-6224-46d7-e0a0-6d4776680266"
   },
   "outputs": [
    {
     "name": "stdout",
     "output_type": "stream",
     "text": [
      "El tiempo de espara máximo para las llamadas entrantes que se aceptará para definir a un trabajador como efizaz, será de 232.5 segundos.\n"
     ]
    }
   ],
   "source": [
    "# Se calcula el bigote superior de la gráfica de caja del tiempo de espera de las llamadas entrantes:\n",
    "whisker_timeout = (np.percentile(summary['timeout'], 75) + (np.percentile(summary['timeout'], 75)\n",
    "                                                                  - np.percentile(summary['timeout'], 25)) * 1.5).round(2)\n",
    "\n",
    "# Se muestra el límite máximo de llamadas perdidas:\n",
    "print('El tiempo de espara máximo para las llamadas entrantes que se aceptará para definir a un trabajador como efizaz,',\n",
    "      'será de', whisker_timeout, 'segundos.')"
   ]
  },
  {
   "cell_type": "markdown",
   "metadata": {
    "id": "903xYgOkX2U0"
   },
   "source": [
    "#### Cantidad de llamadas salientes:"
   ]
  },
  {
   "cell_type": "markdown",
   "metadata": {
    "id": "59UkvFuxX2U1"
   },
   "source": [
    "Se procede a definir el límite mínimo de la cantidad de llamadas salientes para considerar al trabajador como eficaz.\n",
    "\n",
    "Debido a que, realizando el cálculo del bigote inferior de la gráfica de caja se obtiene un valor negativo (ya que el rango intercuartílico es muy grande respecto al valor del primer cuartil) y debido a que el primer cuartil se ubica en 53 llamadas salientes; con el fin de no calificar un alto porcentaje de trabajadores como ineficaces, se decide establecer el límite inferior admisible para considerar a los trabajadores como eficaces en el punto medio entre el mínimo de llamadas y el primer cuartil."
   ]
  },
  {
   "cell_type": "code",
   "execution_count": 35,
   "metadata": {
    "colab": {
     "base_uri": "https://localhost:8080/"
    },
    "id": "tKIx6vIRX2U1",
    "outputId": "4038ed5e-76f4-4f40-d802-85c40435f352"
   },
   "outputs": [
    {
     "name": "stdout",
     "output_type": "stream",
     "text": [
      "La cantidad de llamadas salientes mínimas que se aceptará para definir a un trabajador eficaz será de 8\n"
     ]
    }
   ],
   "source": [
    "# Se calcula el límite inferior para la cantidad mínima de llamadas salientes:\n",
    "min_outbound = mt.ceil((np.percentile(summary['n_outbound_calls'], 25) + summary['n_outbound_calls'].min()) / 2)\n",
    "\n",
    "# Se muestra el límite inferior para la cantidad de llamadas salientes:\n",
    "print('La cantidad de llamadas salientes mínimas que se aceptará para definir a un trabajador eficaz será de', min_outbound)"
   ]
  },
  {
   "cell_type": "markdown",
   "metadata": {
    "id": "P3U0Sdp9X2U2"
   },
   "source": [
    "### Se define si el operador es ineficaz:"
   ]
  },
  {
   "cell_type": "code",
   "execution_count": 36,
   "metadata": {
    "colab": {
     "base_uri": "https://localhost:8080/",
     "height": 441
    },
    "id": "seVfo7DvX2U2",
    "outputId": "12fd51f8-68ad-43b4-ab90-25f6fee3fe18"
   },
   "outputs": [
    {
     "name": "stdout",
     "output_type": "stream",
     "text": [
      "Tabla resumen con la información general:\n"
     ]
    },
    {
     "data": {
      "text/html": [
       "<div>\n",
       "<style scoped>\n",
       "    .dataframe tbody tr th:only-of-type {\n",
       "        vertical-align: middle;\n",
       "    }\n",
       "\n",
       "    .dataframe tbody tr th {\n",
       "        vertical-align: top;\n",
       "    }\n",
       "\n",
       "    .dataframe thead th {\n",
       "        text-align: right;\n",
       "    }\n",
       "</style>\n",
       "<table border=\"1\" class=\"dataframe\">\n",
       "  <thead>\n",
       "    <tr style=\"text-align: right;\">\n",
       "      <th></th>\n",
       "      <th>operator_id</th>\n",
       "      <th>n_missed_calls</th>\n",
       "      <th>timeout</th>\n",
       "      <th>n_outbound_calls</th>\n",
       "      <th>ineficaz</th>\n",
       "    </tr>\n",
       "  </thead>\n",
       "  <tbody>\n",
       "    <tr>\n",
       "      <th>0</th>\n",
       "      <td>882680</td>\n",
       "      <td>3</td>\n",
       "      <td>37.000000</td>\n",
       "      <td>0.0</td>\n",
       "      <td>True</td>\n",
       "    </tr>\n",
       "    <tr>\n",
       "      <th>1</th>\n",
       "      <td>882684</td>\n",
       "      <td>4</td>\n",
       "      <td>190.520000</td>\n",
       "      <td>661.0</td>\n",
       "      <td>False</td>\n",
       "    </tr>\n",
       "    <tr>\n",
       "      <th>2</th>\n",
       "      <td>882686</td>\n",
       "      <td>6</td>\n",
       "      <td>165.750000</td>\n",
       "      <td>2884.0</td>\n",
       "      <td>False</td>\n",
       "    </tr>\n",
       "    <tr>\n",
       "      <th>3</th>\n",
       "      <td>882690</td>\n",
       "      <td>2</td>\n",
       "      <td>322.818182</td>\n",
       "      <td>1417.0</td>\n",
       "      <td>True</td>\n",
       "    </tr>\n",
       "    <tr>\n",
       "      <th>4</th>\n",
       "      <td>884408</td>\n",
       "      <td>4</td>\n",
       "      <td>66.000000</td>\n",
       "      <td>25.0</td>\n",
       "      <td>False</td>\n",
       "    </tr>\n",
       "    <tr>\n",
       "      <th>...</th>\n",
       "      <td>...</td>\n",
       "      <td>...</td>\n",
       "      <td>...</td>\n",
       "      <td>...</td>\n",
       "      <td>...</td>\n",
       "    </tr>\n",
       "    <tr>\n",
       "      <th>234</th>\n",
       "      <td>959312</td>\n",
       "      <td>7</td>\n",
       "      <td>32.153846</td>\n",
       "      <td>145.0</td>\n",
       "      <td>False</td>\n",
       "    </tr>\n",
       "    <tr>\n",
       "      <th>235</th>\n",
       "      <td>960620</td>\n",
       "      <td>1</td>\n",
       "      <td>74.800000</td>\n",
       "      <td>58.0</td>\n",
       "      <td>False</td>\n",
       "    </tr>\n",
       "    <tr>\n",
       "      <th>236</th>\n",
       "      <td>964510</td>\n",
       "      <td>2</td>\n",
       "      <td>25.000000</td>\n",
       "      <td>131.0</td>\n",
       "      <td>False</td>\n",
       "    </tr>\n",
       "    <tr>\n",
       "      <th>237</th>\n",
       "      <td>964666</td>\n",
       "      <td>3</td>\n",
       "      <td>64.222222</td>\n",
       "      <td>814.0</td>\n",
       "      <td>False</td>\n",
       "    </tr>\n",
       "    <tr>\n",
       "      <th>238</th>\n",
       "      <td>969272</td>\n",
       "      <td>1</td>\n",
       "      <td>233.375000</td>\n",
       "      <td>228.0</td>\n",
       "      <td>True</td>\n",
       "    </tr>\n",
       "  </tbody>\n",
       "</table>\n",
       "<p>239 rows × 5 columns</p>\n",
       "</div>"
      ],
      "text/plain": [
       "     operator_id  n_missed_calls     timeout  n_outbound_calls  ineficaz\n",
       "0         882680               3   37.000000               0.0      True\n",
       "1         882684               4  190.520000             661.0     False\n",
       "2         882686               6  165.750000            2884.0     False\n",
       "3         882690               2  322.818182            1417.0      True\n",
       "4         884408               4   66.000000              25.0     False\n",
       "..           ...             ...         ...               ...       ...\n",
       "234       959312               7   32.153846             145.0     False\n",
       "235       960620               1   74.800000              58.0     False\n",
       "236       964510               2   25.000000             131.0     False\n",
       "237       964666               3   64.222222             814.0     False\n",
       "238       969272               1  233.375000             228.0      True\n",
       "\n",
       "[239 rows x 5 columns]"
      ]
     },
     "execution_count": 36,
     "metadata": {},
     "output_type": "execute_result"
    }
   ],
   "source": [
    "# Se determina si cada trabajador es o no ineficaz según las condiciones ya establecidas:\n",
    "summary['ineficaz'] = ((summary['n_missed_calls'] > whisker_missed) |\n",
    "                       (summary['timeout'] > whisker_timeout) |\n",
    "                      (summary['n_outbound_calls'] < min_outbound))\n",
    "\n",
    "# Se muestra la tabla con el resumen de la información de los trabajadores:\n",
    "print('Tabla resumen con la información general:')\n",
    "summary"
   ]
  },
  {
   "cell_type": "code",
   "execution_count": 37,
   "metadata": {
    "colab": {
     "base_uri": "https://localhost:8080/"
    },
    "id": "GSeiq3CSX2U3",
    "outputId": "efea72dd-c837-4801-f8af-ece0fca73b3d"
   },
   "outputs": [
    {
     "name": "stdout",
     "output_type": "stream",
     "text": [
      "El porcentaje de trabajadores que son ineficaces, es 36.82 %\n"
     ]
    }
   ],
   "source": [
    "# se muestra el porcentaje de trabajadores ineficaces:\n",
    "print('El porcentaje de trabajadores que son ineficaces, es',(summary['ineficaz'].mean() * 100).round(2),'%')"
   ]
  },
  {
   "cell_type": "markdown",
   "metadata": {
    "id": "hSUVglc3X2U3"
   },
   "source": [
    "## Pruebas de hipótesis estadísticas:"
   ]
  },
  {
   "cell_type": "code",
   "execution_count": 38,
   "metadata": {
    "id": "ijNFg4LeX2U3"
   },
   "outputs": [],
   "source": [
    "# Se unen los dataframe:\n",
    "df = pd.merge(filtred_data, clients, how = 'left', on = 'user_id')\n",
    "df = pd.merge(df, summary[['operator_id', 'ineficaz']], how = 'left', on = 'operator_id')"
   ]
  },
  {
   "cell_type": "markdown",
   "metadata": {
    "id": "ProNY5rXccYs"
   },
   "source": [
    "### Se filtran los operadores sin valores ausentes en la columna 'Ineficaz':"
   ]
  },
  {
   "cell_type": "code",
   "execution_count": 39,
   "metadata": {
    "colab": {
     "base_uri": "https://localhost:8080/",
     "height": 617
    },
    "id": "6pSpa-_pc0gZ",
    "outputId": "c218221d-31a8-49c2-8894-072f93946970"
   },
   "outputs": [
    {
     "data": {
      "text/html": [
       "<div>\n",
       "<style scoped>\n",
       "    .dataframe tbody tr th:only-of-type {\n",
       "        vertical-align: middle;\n",
       "    }\n",
       "\n",
       "    .dataframe tbody tr th {\n",
       "        vertical-align: top;\n",
       "    }\n",
       "\n",
       "    .dataframe thead th {\n",
       "        text-align: right;\n",
       "    }\n",
       "</style>\n",
       "<table border=\"1\" class=\"dataframe\">\n",
       "  <thead>\n",
       "    <tr style=\"text-align: right;\">\n",
       "      <th></th>\n",
       "      <th>user_id</th>\n",
       "      <th>date</th>\n",
       "      <th>direction</th>\n",
       "      <th>internal</th>\n",
       "      <th>operator_id</th>\n",
       "      <th>is_missed_call</th>\n",
       "      <th>calls_count</th>\n",
       "      <th>call_duration</th>\n",
       "      <th>total_call_duration</th>\n",
       "      <th>timeout</th>\n",
       "      <th>tariff_plan</th>\n",
       "      <th>date_start</th>\n",
       "      <th>ineficaz</th>\n",
       "    </tr>\n",
       "  </thead>\n",
       "  <tbody>\n",
       "    <tr>\n",
       "      <th>0</th>\n",
       "      <td>166405</td>\n",
       "      <td>2019-08-06 00:00:00+03:00</td>\n",
       "      <td>out</td>\n",
       "      <td>False</td>\n",
       "      <td>882684</td>\n",
       "      <td>False</td>\n",
       "      <td>1</td>\n",
       "      <td>11</td>\n",
       "      <td>24</td>\n",
       "      <td>13</td>\n",
       "      <td>B</td>\n",
       "      <td>2019-08-02</td>\n",
       "      <td>False</td>\n",
       "    </tr>\n",
       "    <tr>\n",
       "      <th>1</th>\n",
       "      <td>166405</td>\n",
       "      <td>2019-08-06 00:00:00+03:00</td>\n",
       "      <td>out</td>\n",
       "      <td>False</td>\n",
       "      <td>882684</td>\n",
       "      <td>True</td>\n",
       "      <td>1</td>\n",
       "      <td>0</td>\n",
       "      <td>8</td>\n",
       "      <td>8</td>\n",
       "      <td>B</td>\n",
       "      <td>2019-08-02</td>\n",
       "      <td>False</td>\n",
       "    </tr>\n",
       "    <tr>\n",
       "      <th>2</th>\n",
       "      <td>166405</td>\n",
       "      <td>2019-08-12 00:00:00+03:00</td>\n",
       "      <td>out</td>\n",
       "      <td>False</td>\n",
       "      <td>882684</td>\n",
       "      <td>True</td>\n",
       "      <td>1</td>\n",
       "      <td>0</td>\n",
       "      <td>74</td>\n",
       "      <td>74</td>\n",
       "      <td>B</td>\n",
       "      <td>2019-08-02</td>\n",
       "      <td>False</td>\n",
       "    </tr>\n",
       "    <tr>\n",
       "      <th>3</th>\n",
       "      <td>166405</td>\n",
       "      <td>2019-08-15 00:00:00+03:00</td>\n",
       "      <td>out</td>\n",
       "      <td>False</td>\n",
       "      <td>882684</td>\n",
       "      <td>False</td>\n",
       "      <td>1</td>\n",
       "      <td>151</td>\n",
       "      <td>153</td>\n",
       "      <td>2</td>\n",
       "      <td>B</td>\n",
       "      <td>2019-08-02</td>\n",
       "      <td>False</td>\n",
       "    </tr>\n",
       "    <tr>\n",
       "      <th>4</th>\n",
       "      <td>166405</td>\n",
       "      <td>2019-08-15 00:00:00+03:00</td>\n",
       "      <td>out</td>\n",
       "      <td>False</td>\n",
       "      <td>882686</td>\n",
       "      <td>True</td>\n",
       "      <td>2</td>\n",
       "      <td>0</td>\n",
       "      <td>61</td>\n",
       "      <td>61</td>\n",
       "      <td>B</td>\n",
       "      <td>2019-08-02</td>\n",
       "      <td>False</td>\n",
       "    </tr>\n",
       "    <tr>\n",
       "      <th>...</th>\n",
       "      <td>...</td>\n",
       "      <td>...</td>\n",
       "      <td>...</td>\n",
       "      <td>...</td>\n",
       "      <td>...</td>\n",
       "      <td>...</td>\n",
       "      <td>...</td>\n",
       "      <td>...</td>\n",
       "      <td>...</td>\n",
       "      <td>...</td>\n",
       "      <td>...</td>\n",
       "      <td>...</td>\n",
       "      <td>...</td>\n",
       "    </tr>\n",
       "    <tr>\n",
       "      <th>18824</th>\n",
       "      <td>168606</td>\n",
       "      <td>2019-11-09 00:00:00+03:00</td>\n",
       "      <td>out</td>\n",
       "      <td>False</td>\n",
       "      <td>957922</td>\n",
       "      <td>False</td>\n",
       "      <td>4</td>\n",
       "      <td>551</td>\n",
       "      <td>593</td>\n",
       "      <td>42</td>\n",
       "      <td>C</td>\n",
       "      <td>2019-10-31</td>\n",
       "      <td>False</td>\n",
       "    </tr>\n",
       "    <tr>\n",
       "      <th>18825</th>\n",
       "      <td>168606</td>\n",
       "      <td>2019-11-10 00:00:00+03:00</td>\n",
       "      <td>out</td>\n",
       "      <td>True</td>\n",
       "      <td>957922</td>\n",
       "      <td>False</td>\n",
       "      <td>1</td>\n",
       "      <td>0</td>\n",
       "      <td>25</td>\n",
       "      <td>25</td>\n",
       "      <td>C</td>\n",
       "      <td>2019-10-31</td>\n",
       "      <td>False</td>\n",
       "    </tr>\n",
       "    <tr>\n",
       "      <th>18826</th>\n",
       "      <td>168606</td>\n",
       "      <td>2019-11-10 00:00:00+03:00</td>\n",
       "      <td>out</td>\n",
       "      <td>True</td>\n",
       "      <td>957922</td>\n",
       "      <td>True</td>\n",
       "      <td>1</td>\n",
       "      <td>0</td>\n",
       "      <td>38</td>\n",
       "      <td>38</td>\n",
       "      <td>C</td>\n",
       "      <td>2019-10-31</td>\n",
       "      <td>False</td>\n",
       "    </tr>\n",
       "    <tr>\n",
       "      <th>18827</th>\n",
       "      <td>168606</td>\n",
       "      <td>2019-11-11 00:00:00+03:00</td>\n",
       "      <td>out</td>\n",
       "      <td>True</td>\n",
       "      <td>957922</td>\n",
       "      <td>False</td>\n",
       "      <td>2</td>\n",
       "      <td>479</td>\n",
       "      <td>501</td>\n",
       "      <td>22</td>\n",
       "      <td>C</td>\n",
       "      <td>2019-10-31</td>\n",
       "      <td>False</td>\n",
       "    </tr>\n",
       "    <tr>\n",
       "      <th>18828</th>\n",
       "      <td>168606</td>\n",
       "      <td>2019-11-15 00:00:00+03:00</td>\n",
       "      <td>out</td>\n",
       "      <td>True</td>\n",
       "      <td>957922</td>\n",
       "      <td>False</td>\n",
       "      <td>4</td>\n",
       "      <td>3130</td>\n",
       "      <td>3190</td>\n",
       "      <td>60</td>\n",
       "      <td>C</td>\n",
       "      <td>2019-10-31</td>\n",
       "      <td>False</td>\n",
       "    </tr>\n",
       "  </tbody>\n",
       "</table>\n",
       "<p>18829 rows × 13 columns</p>\n",
       "</div>"
      ],
      "text/plain": [
       "       user_id                      date direction internal  operator_id  \\\n",
       "0       166405 2019-08-06 00:00:00+03:00       out    False       882684   \n",
       "1       166405 2019-08-06 00:00:00+03:00       out    False       882684   \n",
       "2       166405 2019-08-12 00:00:00+03:00       out    False       882684   \n",
       "3       166405 2019-08-15 00:00:00+03:00       out    False       882684   \n",
       "4       166405 2019-08-15 00:00:00+03:00       out    False       882686   \n",
       "...        ...                       ...       ...      ...          ...   \n",
       "18824   168606 2019-11-09 00:00:00+03:00       out    False       957922   \n",
       "18825   168606 2019-11-10 00:00:00+03:00       out     True       957922   \n",
       "18826   168606 2019-11-10 00:00:00+03:00       out     True       957922   \n",
       "18827   168606 2019-11-11 00:00:00+03:00       out     True       957922   \n",
       "18828   168606 2019-11-15 00:00:00+03:00       out     True       957922   \n",
       "\n",
       "       is_missed_call  calls_count  call_duration  total_call_duration  \\\n",
       "0               False            1             11                   24   \n",
       "1                True            1              0                    8   \n",
       "2                True            1              0                   74   \n",
       "3               False            1            151                  153   \n",
       "4                True            2              0                   61   \n",
       "...               ...          ...            ...                  ...   \n",
       "18824           False            4            551                  593   \n",
       "18825           False            1              0                   25   \n",
       "18826            True            1              0                   38   \n",
       "18827           False            2            479                  501   \n",
       "18828           False            4           3130                 3190   \n",
       "\n",
       "       timeout tariff_plan date_start ineficaz  \n",
       "0           13           B 2019-08-02    False  \n",
       "1            8           B 2019-08-02    False  \n",
       "2           74           B 2019-08-02    False  \n",
       "3            2           B 2019-08-02    False  \n",
       "4           61           B 2019-08-02    False  \n",
       "...        ...         ...        ...      ...  \n",
       "18824       42           C 2019-10-31    False  \n",
       "18825       25           C 2019-10-31    False  \n",
       "18826       38           C 2019-10-31    False  \n",
       "18827       22           C 2019-10-31    False  \n",
       "18828       60           C 2019-10-31    False  \n",
       "\n",
       "[18829 rows x 13 columns]"
      ]
     },
     "execution_count": 39,
     "metadata": {},
     "output_type": "execute_result"
    }
   ],
   "source": [
    "df_filtred = df[~df['ineficaz'].isna()].reset_index(drop = True)\n",
    "df_filtred"
   ]
  },
  {
   "cell_type": "markdown",
   "metadata": {
    "id": "_mZdC5_ndHvK"
   },
   "source": [
    "**Conclusión:** Al filtrar los datos de los que no se tienen valores ausentes en la columna 'Ineficaz' se tiene un total de 18829 datos."
   ]
  },
  {
   "cell_type": "markdown",
   "metadata": {
    "id": "xzDaAg5ydk9Z"
   },
   "source": [
    "### Se cuenta la cantidad de operadores para cada grupo:"
   ]
  },
  {
   "cell_type": "code",
   "execution_count": 40,
   "metadata": {
    "colab": {
     "base_uri": "https://localhost:8080/",
     "height": 178
    },
    "id": "R6J1JTggdutI",
    "outputId": "fde39351-5196-4ed9-fdcd-0433ecf716d9"
   },
   "outputs": [
    {
     "data": {
      "text/plain": [
       "ineficaz\n",
       "False    151\n",
       "True      88\n",
       "Name: operator_id, dtype: int64"
      ]
     },
     "execution_count": 40,
     "metadata": {},
     "output_type": "execute_result"
    }
   ],
   "source": [
    "df_filtred.groupby('ineficaz')['operator_id'].nunique()"
   ]
  },
  {
   "cell_type": "markdown",
   "metadata": {
    "id": "mdUz1mhwfvuY"
   },
   "source": [
    "**Conclusión:** Al comparar la cantidad de operadores ineficaces y los eficaces, se observa que no se encuentran balanceadas las muestras por lo que se procede a separar una muestra aleatoria del grupo de trabajadores eficaces."
   ]
  },
  {
   "cell_type": "markdown",
   "metadata": {
    "id": "2prVR4-Jky0u"
   },
   "source": [
    "### Se obtiene el id de 75 trabajadores eficaces para tener las muestras balanceadas:"
   ]
  },
  {
   "cell_type": "code",
   "execution_count": 41,
   "metadata": {
    "id": "FQuGE2tlftTM"
   },
   "outputs": [],
   "source": [
    "# Se escogen 75 trabajadores al azar pertenecientes al grupo de trabajadores eficaces:\n",
    "df_eficaces = df_filtred[df_filtred['ineficaz'] == False]['operator_id'].sample(n = 75, random_state = 0)"
   ]
  },
  {
   "cell_type": "markdown",
   "metadata": {
    "id": "7cdWnk2CjcCS"
   },
   "source": [
    "### Se filtran los operarios que van a formar parte de la muestras para las pruebas:"
   ]
  },
  {
   "cell_type": "code",
   "execution_count": 42,
   "metadata": {
    "id": "F7Y5yWJrlBDv"
   },
   "outputs": [],
   "source": [
    "df_test = df_filtred[(df_filtred['operator_id'].isin(df_eficaces)) | (df_filtred['ineficaz'] == True)]"
   ]
  },
  {
   "cell_type": "markdown",
   "metadata": {
    "id": "ca6-IiSaX2U4"
   },
   "source": [
    "### Comparar las varianzas de duración de llamadas para los trabajadores eficaces e ineficaces:"
   ]
  },
  {
   "cell_type": "markdown",
   "metadata": {
    "id": "NGLa2r_UX2U4"
   },
   "source": [
    "Se realiza una prueba levene para comparar las varianzas de duración de las llamadas para ambos planes:"
   ]
  },
  {
   "cell_type": "code",
   "execution_count": 43,
   "metadata": {
    "colab": {
     "base_uri": "https://localhost:8080/"
    },
    "id": "GKiL2AaNX2U4",
    "outputId": "10fead5a-23cf-4c7a-c119-76c97b088903"
   },
   "outputs": [
    {
     "name": "stdout",
     "output_type": "stream",
     "text": [
      "Se rechaza la hipotesis nula; estos es, las varianzas son distintas.\n",
      "\n",
      "El estadístico de prueba es 179.2732980169048 y el valor p es 1.39050019294375e-40\n"
     ]
    }
   ],
   "source": [
    "# Prueba levene para comparar las varianzas de los 2 planes:\n",
    "\n",
    "# Se define la hipótesis nula y la hipótesis alternativa:\n",
    "# H0: Las varianzas para ambos planes son iguales.\n",
    "# HA: Las varianzas para ambos planes son distintas.\n",
    "# Se selecciona el alpha:\n",
    "alpha = .05\n",
    "\n",
    "# Se realiza la prueba levene:\n",
    "result = st.levene(df_test[df_test['ineficaz'] == False]['calls_duration'],\n",
    "                   df_test[df_test['ineficaz'] == True]['calls_duration'])\n",
    "\n",
    "# Se determina si se acepta o se rechaza la hipótesis nula de acuerdo al valor de p:\n",
    "if result[1] < alpha:\n",
    "    witness = False\n",
    "    print('Se rechaza la hipotesis nula; estos es, las varianzas son distintas.\\n')\n",
    "else:\n",
    "    witness = True\n",
    "    print('Se acepta la hipotesis nula; esto es, las varianzas son iguales.\\n')\n",
    "\n",
    "print('El estadístico de prueba es', result[0], 'y el valor p es', result[1])"
   ]
  },
  {
   "cell_type": "markdown",
   "metadata": {
    "id": "PVoTXITxX2U5"
   },
   "source": [
    "### Comparar las medias de la duración de llamadas de los operadores eficaces y los ineficaces:"
   ]
  },
  {
   "cell_type": "code",
   "execution_count": 44,
   "metadata": {
    "colab": {
     "base_uri": "https://localhost:8080/"
    },
    "id": "Eq-GaUIaX2U5",
    "outputId": "c4067945-2f75-4ea8-e7fd-9c0383ed9892"
   },
   "outputs": [
    {
     "name": "stdout",
     "output_type": "stream",
     "text": [
      "Se rechaza la hipotesis nula; estos es, las medias son distintas.\n",
      "\n",
      "El estadístico de prueba es -12.783573439218216 y el valor p es 6.411018514427744e-37 \n",
      "\n",
      "La duración media de las llamadas de los operadores eficaces, es 680.18 segundos.\n",
      "\n",
      "La duración media de las llamadas de los operadores ineficaces, es 2412.24 segundos.\n"
     ]
    }
   ],
   "source": [
    "# Prueba ttest_ind para comparar las medias de los 2 planes:\n",
    "\n",
    "# Se define la hipótesis nula y la hipótesis alternativa:\n",
    "# H0: Las medias para ambos grupos son iguales.\n",
    "# HA: Las medias para ambos grupos son distintas.\n",
    "# Se selecciona el alpha:\n",
    "alpha = .05\n",
    "\n",
    "# Se realiza la prueba levene:\n",
    "result = st.ttest_ind(df_test[df_test['ineficaz'] == False]['calls_duration'],\n",
    "                      df_test[df_test['ineficaz'] == True]['calls_duration'],\n",
    "                      equal_var = witness)\n",
    "\n",
    "# Se determina si se acepta o se rechaza la hipótesis nula de acuerdo al valor de p:\n",
    "if result[1] < alpha:\n",
    "    print('Se rechaza la hipotesis nula; estos es, las medias son distintas.\\n')\n",
    "else:\n",
    "    print('Se acepta la hipotesis nula; esto es, las medias son iguales.\\n')\n",
    "\n",
    "print('El estadístico de prueba es', result[0], 'y el valor p es', result[1],'\\n')\n",
    "\n",
    "print('La duración media de las llamadas de los operadores eficaces, es', df_test[df_test['ineficaz'] == False]['call_duration'].mean().round(2),\n",
    "      'segundos.\\n')\n",
    "\n",
    "print('La duración media de las llamadas de los operadores ineficaces, es', df_test[df_test['ineficaz'] == True]['call_duration'].mean().round(2),\n",
    "      'segundos.')"
   ]
  },
  {
   "cell_type": "markdown",
   "metadata": {
    "id": "lTtfgKZFX2U5"
   },
   "source": [
    "**Conclusiones:**\n",
    "\n",
    "* Al realizar la prueba levene se evidencia que existe diferencia en las varianzas de la duración de las llamadas de los operadores eficaces y los ineficaces.\n",
    "\n",
    "* Al realizar el ttest_ind se puede observar que existen diferencias en las medias de la duración de las llamadas de para ambos grupos de operadores.\n",
    "\n",
    "* La **duración media de las llamadas** para los operadores **eficaces** es de **818.03 segundos**.\n",
    "\n",
    "* La **duración media de las llamadas** para los operadores **ineficacesB** es de **2726.94 segundos**.\n",
    "\n",
    "* Se puede concluir que la **duración media de las llamadas de los operadores ineficaces** es más del **triple**  de la duración media de las llamadas de los **operadores eficaces**."
   ]
  },
  {
   "cell_type": "markdown",
   "metadata": {
    "id": "fnPNo-ZMhVu8"
   },
   "source": [
    "### Comparar las varianzas de la cantidad de llamadas de los operadores eficaces e ineficaces:"
   ]
  },
  {
   "cell_type": "code",
   "execution_count": 47,
   "metadata": {
    "colab": {
     "base_uri": "https://localhost:8080/"
    },
    "id": "Paqnc0Xmic9s",
    "outputId": "9749f993-493c-4422-8564-6f75260d8ac7"
   },
   "outputs": [
    {
     "name": "stdout",
     "output_type": "stream",
     "text": [
      "Se rechaza la hipotesis nula; estos es, las varianzas son distintas.\n",
      "\n",
      "El estadístico de prueba es 483.59970066907334 y el valor p es 2.446918426003169e-103\n"
     ]
    }
   ],
   "source": [
    "# Prueba levene para comparar las varianzas de los 2 planes:\n",
    "\n",
    "# Se define la hipótesis nula y la hipótesis alternativa:\n",
    "# H0: Las varianzas para ambos planes son iguales.\n",
    "# HA: Las varianzas para ambos planes son distintas.\n",
    "# Se selecciona el alpha:\n",
    "alpha = .05\n",
    "\n",
    "# Se realiza la prueba levene:\n",
    "result = st.levene(df_test[(df_test['ineficaz'] == False) & (df_test['direction']=='out')]['calls_count'],\n",
    "                   df_test[(df_test['ineficaz'] == True) & (df_test['direction']=='out')]['calls_count'])\n",
    "\n",
    "# Se determina si se acepta o se rechaza la hipótesis nula de acuerdo al valor de p:\n",
    "if result[1] < alpha:\n",
    "    witness = False\n",
    "    print('Se rechaza la hipotesis nula; estos es, las varianzas son distintas.\\n')\n",
    "else:\n",
    "    witness = True\n",
    "    print('Se acepta la hipotesis nula; esto es, las varianzas son iguales.\\n')\n",
    "\n",
    "print('El estadístico de prueba es', result[0], 'y el valor p es', result[1])"
   ]
  },
  {
   "cell_type": "markdown",
   "metadata": {
    "id": "tsDxim6WjeRJ"
   },
   "source": [
    "### Comparar las medias de la cantidad de llamadas de los operadores eficaces e ineficaces:"
   ]
  },
  {
   "cell_type": "code",
   "execution_count": 46,
   "metadata": {
    "colab": {
     "base_uri": "https://localhost:8080/"
    },
    "id": "RUkY86xljmEg",
    "outputId": "6a5c3b86-0df5-42b3-dd53-8c24140f702e"
   },
   "outputs": [
    {
     "name": "stdout",
     "output_type": "stream",
     "text": [
      "Se rechaza la hipotesis nula; estos es, las medias son distintas.\n",
      "\n",
      "El estadístico de prueba es -16.62609441124096 y el valor p es 1.0588657641386876e-58 \n",
      "\n",
      "La media de la cantidad de llamadas de los operadores eficaces, es 8.52\n",
      "La media de la cantidad de llamadas de los operadores ineficaces, es 36.79\n"
     ]
    }
   ],
   "source": [
    "# Prueba ttest_ind para comparar las medias de los 2 planes:\n",
    "\n",
    "# Se define la hipótesis nula y la hipótesis alternativa:\n",
    "# H0: Las medias para ambos grupos son iguales.\n",
    "# HA: Las medias para ambos grupos son distintas.\n",
    "# Se selecciona el alpha:\n",
    "alpha = .05\n",
    "\n",
    "# Se realiza la prueba levene:\n",
    "result = st.ttest_ind(df_test[(df_test['ineficaz'] == False) & (df_test['direction']=='out')]['calls_count'],\n",
    "                      df_test[(df_test['ineficaz'] == True) & (df_test['direction']=='out')]['calls_count'],\n",
    "                      equal_var = witness)\n",
    "\n",
    "# Se determina si se acepta o se rechaza la hipótesis nula de acuerdo al valor de p:\n",
    "if result[1] < alpha:\n",
    "    print('Se rechaza la hipotesis nula; estos es, las medias son distintas.\\n')\n",
    "else:\n",
    "    print('Se acepta la hipotesis nula; esto es, las medias son iguales.\\n')\n",
    "\n",
    "print('El estadístico de prueba es', result[0], 'y el valor p es', result[1],'\\n')\n",
    "\n",
    "print('La media de la cantidad de llamadas de los operadores eficaces, es', df_test[df_test['ineficaz'] == False]['calls_count'].mean().round(2))\n",
    "\n",
    "print('La media de la cantidad de llamadas de los operadores ineficaces, es', df_test[df_test['ineficaz'] == True]['calls_count'].mean().round(2))"
   ]
  },
  {
   "cell_type": "markdown",
   "metadata": {
    "id": "hQ_xVqpVk3us"
   },
   "source": [
    "**Conclusión:**\n",
    "\n",
    "* Al realizar las pruebas de comparación de varianzas y de medias, se puede observar que en ambas pruebas se rechaza la hipótesis nula, o sea, que tanto las varianzas como las medias son distintas para ambos grupos de operadores.\n",
    "\n",
    "* Al comparar la media de la cantidad de llamadas para cada grupo de operadores se puede observar que la media de los operadores ineficaces cuadriplica a la media de los trabajadores eficaces, esto podría ser un punto a favor de los trabajadores ineficaces.\n",
    "\n",
    "* Para acceder al dashboard use el siguiente vínculo https://public.tableau.com/app/profile/joan.manuel.sanchez.sandia/viz/ProyectoSprint14/Dashboard1?publish=yes\n",
    "\n",
    "* Para acceder a la presentación en pdf use el siguiente vínculo https://drive.google.com/file/d/1nq5KtJZFifkRA5TB6WDyixPxjWfNX3R_/view?usp=drive_link\n",
    "\n",
    "* Para acceder a la presentación en pptx use el siguiente vínculo\n",
    "https://docs.google.com/presentation/d/12o5bgu73atdnak31q_E1IJeOo3MN5rhO/edit?usp=drive_link&ouid=105910490680525495676&rtpof=true&sd=true"
   ]
  }
 ],
 "metadata": {
  "ExecuteTimeLog": [
   {
    "duration": 2860,
    "start_time": "2025-04-25T01:30:13.003Z"
   },
   {
    "duration": 64,
    "start_time": "2025-04-25T01:33:11.293Z"
   },
   {
    "duration": 15,
    "start_time": "2025-04-25T01:33:17.102Z"
   },
   {
    "duration": 9,
    "start_time": "2025-04-25T01:33:28.751Z"
   },
   {
    "duration": 6,
    "start_time": "2025-04-25T01:33:40.321Z"
   },
   {
    "duration": 14,
    "start_time": "2025-04-25T01:34:08.077Z"
   },
   {
    "duration": 8,
    "start_time": "2025-04-25T01:34:36.369Z"
   },
   {
    "duration": 4,
    "start_time": "2025-04-25T03:08:21.719Z"
   },
   {
    "duration": 10,
    "start_time": "2025-04-25T03:10:30.842Z"
   },
   {
    "duration": 142,
    "start_time": "2025-04-25T03:29:33.842Z"
   },
   {
    "duration": 24,
    "start_time": "2025-04-25T03:29:38.716Z"
   },
   {
    "duration": 16,
    "start_time": "2025-04-25T03:31:49.194Z"
   },
   {
    "duration": 15,
    "start_time": "2025-04-25T03:32:32.363Z"
   },
   {
    "duration": 15,
    "start_time": "2025-04-25T03:41:00.685Z"
   },
   {
    "duration": 14,
    "start_time": "2025-04-25T03:41:15.052Z"
   },
   {
    "duration": 13,
    "start_time": "2025-04-25T03:42:05.459Z"
   },
   {
    "duration": 27,
    "start_time": "2025-04-25T03:42:21.172Z"
   },
   {
    "duration": 1048,
    "start_time": "2025-04-25T04:09:12.604Z"
   },
   {
    "duration": 41,
    "start_time": "2025-04-25T04:09:13.654Z"
   },
   {
    "duration": 40,
    "start_time": "2025-04-25T04:09:13.697Z"
   },
   {
    "duration": 14,
    "start_time": "2025-04-25T04:09:13.740Z"
   },
   {
    "duration": 4,
    "start_time": "2025-04-25T04:09:13.755Z"
   },
   {
    "duration": 10,
    "start_time": "2025-04-25T04:09:13.761Z"
   },
   {
    "duration": 16,
    "start_time": "2025-04-25T04:09:13.772Z"
   },
   {
    "duration": 48,
    "start_time": "2025-04-25T04:09:13.789Z"
   },
   {
    "duration": 8,
    "start_time": "2025-04-25T04:09:13.839Z"
   },
   {
    "duration": 62,
    "start_time": "2025-04-25T04:11:23.367Z"
   },
   {
    "duration": 10,
    "start_time": "2025-04-25T04:13:32.568Z"
   },
   {
    "duration": 13,
    "start_time": "2025-04-25T04:14:15.832Z"
   },
   {
    "duration": 4,
    "start_time": "2025-04-25T04:15:20.150Z"
   },
   {
    "duration": 11,
    "start_time": "2025-04-25T04:16:11.867Z"
   },
   {
    "duration": 38,
    "start_time": "2025-04-25T04:17:07.395Z"
   },
   {
    "duration": 24,
    "start_time": "2025-04-25T04:18:05.030Z"
   },
   {
    "duration": 8,
    "start_time": "2025-04-25T04:18:57.457Z"
   },
   {
    "duration": 9,
    "start_time": "2025-04-25T04:19:05.055Z"
   },
   {
    "duration": 33,
    "start_time": "2025-04-25T04:19:22.196Z"
   },
   {
    "duration": 12,
    "start_time": "2025-04-25T04:20:14.747Z"
   },
   {
    "duration": 13,
    "start_time": "2025-04-25T04:21:45.250Z"
   },
   {
    "duration": 4,
    "start_time": "2025-04-25T04:22:42.943Z"
   },
   {
    "duration": 11,
    "start_time": "2025-04-25T04:23:49.904Z"
   },
   {
    "duration": 10,
    "start_time": "2025-04-25T04:24:45.314Z"
   },
   {
    "duration": 9,
    "start_time": "2025-04-25T04:28:08.425Z"
   },
   {
    "duration": 1065,
    "start_time": "2025-04-25T04:52:08.276Z"
   },
   {
    "duration": 41,
    "start_time": "2025-04-25T04:52:09.344Z"
   },
   {
    "duration": 11,
    "start_time": "2025-04-25T04:52:09.387Z"
   },
   {
    "duration": 32,
    "start_time": "2025-04-25T04:52:09.401Z"
   },
   {
    "duration": 4,
    "start_time": "2025-04-25T04:52:09.435Z"
   },
   {
    "duration": 10,
    "start_time": "2025-04-25T04:52:09.441Z"
   },
   {
    "duration": 16,
    "start_time": "2025-04-25T04:52:09.452Z"
   },
   {
    "duration": 63,
    "start_time": "2025-04-25T04:52:09.470Z"
   },
   {
    "duration": 7,
    "start_time": "2025-04-25T04:52:09.535Z"
   },
   {
    "duration": 8,
    "start_time": "2025-04-25T04:52:09.545Z"
   },
   {
    "duration": 5,
    "start_time": "2025-04-25T04:52:09.555Z"
   },
   {
    "duration": 5,
    "start_time": "2025-04-25T04:52:09.562Z"
   },
   {
    "duration": 5,
    "start_time": "2025-04-25T04:52:09.569Z"
   },
   {
    "duration": 19,
    "start_time": "2025-04-25T05:01:44.221Z"
   },
   {
    "duration": 865,
    "start_time": "2025-04-25T05:05:50.417Z"
   },
   {
    "duration": 49,
    "start_time": "2025-04-25T05:25:09.800Z"
   },
   {
    "duration": 17,
    "start_time": "2025-04-25T05:25:30.421Z"
   },
   {
    "duration": 15,
    "start_time": "2025-04-25T05:25:54.021Z"
   },
   {
    "duration": 29,
    "start_time": "2025-04-25T05:26:13.025Z"
   },
   {
    "duration": 8,
    "start_time": "2025-04-25T05:26:15.888Z"
   },
   {
    "duration": 34,
    "start_time": "2025-04-25T05:26:46.397Z"
   },
   {
    "duration": 9,
    "start_time": "2025-04-25T05:26:50.064Z"
   },
   {
    "duration": 11,
    "start_time": "2025-04-25T05:27:50.021Z"
   },
   {
    "duration": 10,
    "start_time": "2025-04-25T05:27:57.384Z"
   },
   {
    "duration": 63,
    "start_time": "2025-04-25T05:29:14.000Z"
   },
   {
    "duration": 47,
    "start_time": "2025-04-25T05:29:22.539Z"
   },
   {
    "duration": 55,
    "start_time": "2025-04-25T05:29:33.711Z"
   },
   {
    "duration": 14,
    "start_time": "2025-04-25T05:29:43.429Z"
   },
   {
    "duration": 42,
    "start_time": "2025-04-25T05:31:12.878Z"
   },
   {
    "duration": 9,
    "start_time": "2025-04-25T05:31:16.237Z"
   },
   {
    "duration": 43,
    "start_time": "2025-04-25T05:31:48.703Z"
   },
   {
    "duration": 10,
    "start_time": "2025-04-25T05:31:50.884Z"
   },
   {
    "duration": 37,
    "start_time": "2025-04-25T05:32:47.700Z"
   },
   {
    "duration": 15,
    "start_time": "2025-04-25T05:38:56.849Z"
   },
   {
    "duration": 27,
    "start_time": "2025-04-25T05:39:05.489Z"
   },
   {
    "duration": 25,
    "start_time": "2025-04-25T05:39:21.616Z"
   },
   {
    "duration": 8,
    "start_time": "2025-04-25T05:44:51.270Z"
   },
   {
    "duration": 992,
    "start_time": "2025-04-25T05:54:04.904Z"
   },
   {
    "duration": 52,
    "start_time": "2025-04-25T05:54:05.898Z"
   },
   {
    "duration": 12,
    "start_time": "2025-04-25T05:54:05.951Z"
   },
   {
    "duration": 13,
    "start_time": "2025-04-25T05:54:05.966Z"
   },
   {
    "duration": 3,
    "start_time": "2025-04-25T05:54:05.981Z"
   },
   {
    "duration": 11,
    "start_time": "2025-04-25T05:54:06.005Z"
   },
   {
    "duration": 28,
    "start_time": "2025-04-25T05:54:06.018Z"
   },
   {
    "duration": 25,
    "start_time": "2025-04-25T05:54:06.048Z"
   },
   {
    "duration": 6,
    "start_time": "2025-04-25T05:54:06.075Z"
   },
   {
    "duration": 48,
    "start_time": "2025-04-25T05:54:06.084Z"
   },
   {
    "duration": 5,
    "start_time": "2025-04-25T05:54:06.134Z"
   },
   {
    "duration": 6,
    "start_time": "2025-04-25T05:54:06.141Z"
   },
   {
    "duration": 5,
    "start_time": "2025-04-25T05:54:06.149Z"
   },
   {
    "duration": 10,
    "start_time": "2025-04-25T05:54:06.156Z"
   },
   {
    "duration": 57,
    "start_time": "2025-04-25T05:54:06.167Z"
   },
   {
    "duration": 11,
    "start_time": "2025-04-25T05:54:06.234Z"
   },
   {
    "duration": 16,
    "start_time": "2025-04-25T05:54:06.247Z"
   },
   {
    "duration": 6,
    "start_time": "2025-04-25T05:54:06.265Z"
   },
   {
    "duration": 11,
    "start_time": "2025-04-25T05:54:06.273Z"
   },
   {
    "duration": 13,
    "start_time": "2025-04-25T05:54:36.389Z"
   },
   {
    "duration": 8,
    "start_time": "2025-04-25T05:55:55.782Z"
   },
   {
    "duration": 15,
    "start_time": "2025-04-25T06:00:08.125Z"
   },
   {
    "duration": 6,
    "start_time": "2025-04-25T06:06:44.389Z"
   },
   {
    "duration": 8,
    "start_time": "2025-04-25T06:06:59.071Z"
   },
   {
    "duration": 1002,
    "start_time": "2025-04-25T06:07:25.158Z"
   },
   {
    "duration": 43,
    "start_time": "2025-04-25T06:07:26.162Z"
   },
   {
    "duration": 11,
    "start_time": "2025-04-25T06:07:26.206Z"
   },
   {
    "duration": 13,
    "start_time": "2025-04-25T06:07:26.220Z"
   },
   {
    "duration": 4,
    "start_time": "2025-04-25T06:07:26.235Z"
   },
   {
    "duration": 10,
    "start_time": "2025-04-25T06:07:26.240Z"
   },
   {
    "duration": 16,
    "start_time": "2025-04-25T06:07:26.252Z"
   },
   {
    "duration": 24,
    "start_time": "2025-04-25T06:07:26.305Z"
   },
   {
    "duration": 7,
    "start_time": "2025-04-25T06:07:26.331Z"
   },
   {
    "duration": 8,
    "start_time": "2025-04-25T06:07:26.341Z"
   },
   {
    "duration": 5,
    "start_time": "2025-04-25T06:07:26.350Z"
   },
   {
    "duration": 5,
    "start_time": "2025-04-25T06:07:26.356Z"
   },
   {
    "duration": 44,
    "start_time": "2025-04-25T06:07:26.363Z"
   },
   {
    "duration": 9,
    "start_time": "2025-04-25T06:07:26.409Z"
   },
   {
    "duration": 26,
    "start_time": "2025-04-25T06:07:26.419Z"
   },
   {
    "duration": 12,
    "start_time": "2025-04-25T06:07:26.446Z"
   },
   {
    "duration": 18,
    "start_time": "2025-04-25T06:07:26.459Z"
   },
   {
    "duration": 33,
    "start_time": "2025-04-25T06:07:26.478Z"
   },
   {
    "duration": 8,
    "start_time": "2025-04-25T06:07:26.512Z"
   },
   {
    "duration": 6,
    "start_time": "2025-04-25T06:12:15.500Z"
   },
   {
    "duration": 986,
    "start_time": "2025-04-25T06:12:29.794Z"
   },
   {
    "duration": 45,
    "start_time": "2025-04-25T06:12:30.782Z"
   },
   {
    "duration": 12,
    "start_time": "2025-04-25T06:12:30.829Z"
   },
   {
    "duration": 13,
    "start_time": "2025-04-25T06:12:30.844Z"
   },
   {
    "duration": 6,
    "start_time": "2025-04-25T06:12:30.859Z"
   },
   {
    "duration": 10,
    "start_time": "2025-04-25T06:12:30.867Z"
   },
   {
    "duration": 15,
    "start_time": "2025-04-25T06:12:30.906Z"
   },
   {
    "duration": 22,
    "start_time": "2025-04-25T06:12:30.923Z"
   },
   {
    "duration": 6,
    "start_time": "2025-04-25T06:12:30.947Z"
   },
   {
    "duration": 7,
    "start_time": "2025-04-25T06:12:30.956Z"
   },
   {
    "duration": 5,
    "start_time": "2025-04-25T06:12:30.965Z"
   },
   {
    "duration": 38,
    "start_time": "2025-04-25T06:12:30.972Z"
   },
   {
    "duration": 6,
    "start_time": "2025-04-25T06:12:31.012Z"
   },
   {
    "duration": 11,
    "start_time": "2025-04-25T06:12:31.019Z"
   },
   {
    "duration": 27,
    "start_time": "2025-04-25T06:12:31.032Z"
   },
   {
    "duration": 11,
    "start_time": "2025-04-25T06:12:31.061Z"
   },
   {
    "duration": 21,
    "start_time": "2025-04-25T06:12:31.106Z"
   },
   {
    "duration": 7,
    "start_time": "2025-04-25T06:12:31.129Z"
   },
   {
    "duration": 9,
    "start_time": "2025-04-25T06:12:31.137Z"
   },
   {
    "duration": 7,
    "start_time": "2025-04-25T06:13:43.830Z"
   },
   {
    "duration": 9,
    "start_time": "2025-04-25T06:13:52.191Z"
   },
   {
    "duration": 199,
    "start_time": "2025-04-29T20:43:21.851Z"
   },
   {
    "duration": 3272,
    "start_time": "2025-04-29T20:44:25.670Z"
   },
   {
    "duration": 83,
    "start_time": "2025-04-29T20:44:28.945Z"
   },
   {
    "duration": 34,
    "start_time": "2025-04-29T20:44:29.030Z"
   },
   {
    "duration": 14,
    "start_time": "2025-04-29T20:44:29.067Z"
   },
   {
    "duration": 5,
    "start_time": "2025-04-29T20:44:29.083Z"
   },
   {
    "duration": 11,
    "start_time": "2025-04-29T20:44:29.090Z"
   },
   {
    "duration": 18,
    "start_time": "2025-04-29T20:44:29.102Z"
   },
   {
    "duration": 43,
    "start_time": "2025-04-29T20:44:29.135Z"
   },
   {
    "duration": 9,
    "start_time": "2025-04-29T20:44:29.180Z"
   },
   {
    "duration": 9,
    "start_time": "2025-04-29T20:44:29.192Z"
   },
   {
    "duration": 4,
    "start_time": "2025-04-29T20:44:29.203Z"
   },
   {
    "duration": 33,
    "start_time": "2025-04-29T20:44:29.209Z"
   },
   {
    "duration": 8,
    "start_time": "2025-04-29T20:44:29.254Z"
   },
   {
    "duration": 9,
    "start_time": "2025-04-29T20:44:29.264Z"
   },
   {
    "duration": 27,
    "start_time": "2025-04-29T20:44:29.274Z"
   },
   {
    "duration": 13,
    "start_time": "2025-04-29T20:44:29.303Z"
   },
   {
    "duration": 36,
    "start_time": "2025-04-29T20:44:29.318Z"
   },
   {
    "duration": 11,
    "start_time": "2025-04-29T20:44:29.356Z"
   },
   {
    "duration": 9,
    "start_time": "2025-04-29T20:44:29.368Z"
   },
   {
    "duration": 17,
    "start_time": "2025-04-29T20:44:29.379Z"
   },
   {
    "duration": 14,
    "start_time": "2025-04-29T20:45:05.705Z"
   },
   {
    "duration": 14,
    "start_time": "2025-04-29T20:45:17.668Z"
   },
   {
    "duration": 13,
    "start_time": "2025-04-29T20:45:45.684Z"
   },
   {
    "duration": 12,
    "start_time": "2025-04-29T21:07:23.162Z"
   },
   {
    "duration": 8,
    "start_time": "2025-04-29T21:09:08.160Z"
   },
   {
    "duration": 212,
    "start_time": "2025-04-29T21:22:08.701Z"
   },
   {
    "duration": 123,
    "start_time": "2025-04-29T21:22:41.379Z"
   },
   {
    "duration": 147,
    "start_time": "2025-04-29T21:22:52.814Z"
   },
   {
    "duration": 10,
    "start_time": "2025-04-29T21:25:08.000Z"
   },
   {
    "duration": 12,
    "start_time": "2025-04-29T21:25:35.591Z"
   },
   {
    "duration": 31,
    "start_time": "2025-04-29T21:26:49.224Z"
   },
   {
    "duration": 192,
    "start_time": "2025-04-29T21:33:21.357Z"
   },
   {
    "duration": 291,
    "start_time": "2025-04-29T21:33:33.335Z"
   },
   {
    "duration": 25,
    "start_time": "2025-04-29T21:34:37.388Z"
   },
   {
    "duration": 181,
    "start_time": "2025-04-30T06:49:56.023Z"
   },
   {
    "duration": 1059,
    "start_time": "2025-04-30T06:50:17.982Z"
   },
   {
    "duration": 73,
    "start_time": "2025-04-30T06:50:19.043Z"
   },
   {
    "duration": 11,
    "start_time": "2025-04-30T06:50:19.118Z"
   },
   {
    "duration": 14,
    "start_time": "2025-04-30T06:50:19.132Z"
   },
   {
    "duration": 4,
    "start_time": "2025-04-30T06:50:19.147Z"
   },
   {
    "duration": 10,
    "start_time": "2025-04-30T06:50:19.154Z"
   },
   {
    "duration": 15,
    "start_time": "2025-04-30T06:50:19.166Z"
   },
   {
    "duration": 28,
    "start_time": "2025-04-30T06:50:19.210Z"
   },
   {
    "duration": 6,
    "start_time": "2025-04-30T06:50:19.240Z"
   },
   {
    "duration": 8,
    "start_time": "2025-04-30T06:50:19.248Z"
   },
   {
    "duration": 5,
    "start_time": "2025-04-30T06:50:19.258Z"
   },
   {
    "duration": 5,
    "start_time": "2025-04-30T06:50:19.265Z"
   },
   {
    "duration": 6,
    "start_time": "2025-04-30T06:50:19.309Z"
   },
   {
    "duration": 9,
    "start_time": "2025-04-30T06:50:19.319Z"
   },
   {
    "duration": 27,
    "start_time": "2025-04-30T06:50:19.538Z"
   },
   {
    "duration": 11,
    "start_time": "2025-04-30T06:50:19.569Z"
   },
   {
    "duration": 23,
    "start_time": "2025-04-30T06:50:19.862Z"
   },
   {
    "duration": 9,
    "start_time": "2025-04-30T06:50:19.887Z"
   },
   {
    "duration": 10,
    "start_time": "2025-04-30T06:50:19.898Z"
   },
   {
    "duration": 14,
    "start_time": "2025-04-30T06:50:19.910Z"
   },
   {
    "duration": 11,
    "start_time": "2025-04-30T06:50:19.926Z"
   },
   {
    "duration": 11,
    "start_time": "2025-04-30T06:50:20.135Z"
   },
   {
    "duration": 5,
    "start_time": "2025-04-30T06:50:20.148Z"
   },
   {
    "duration": 23,
    "start_time": "2025-04-30T06:50:20.155Z"
   },
   {
    "duration": 194,
    "start_time": "2025-04-30T06:50:20.180Z"
   },
   {
    "duration": 8,
    "start_time": "2025-04-30T07:00:36.244Z"
   },
   {
    "duration": 15,
    "start_time": "2025-04-30T07:01:48.969Z"
   },
   {
    "duration": 10,
    "start_time": "2025-04-30T07:10:31.199Z"
   },
   {
    "duration": 8,
    "start_time": "2025-04-30T07:15:58.825Z"
   },
   {
    "duration": 10,
    "start_time": "2025-04-30T07:16:31.806Z"
   },
   {
    "duration": 1032,
    "start_time": "2025-04-30T07:17:11.278Z"
   },
   {
    "duration": 10,
    "start_time": "2025-04-30T07:17:39.992Z"
   },
   {
    "duration": 18,
    "start_time": "2025-04-30T07:21:07.039Z"
   },
   {
    "duration": 118,
    "start_time": "2025-04-30T07:23:38.163Z"
   },
   {
    "duration": 4,
    "start_time": "2025-04-30T07:23:56.548Z"
   },
   {
    "duration": 11,
    "start_time": "2025-04-30T07:23:57.961Z"
   },
   {
    "duration": 12,
    "start_time": "2025-04-30T07:24:16.937Z"
   },
   {
    "duration": 13,
    "start_time": "2025-04-30T07:27:00.391Z"
   },
   {
    "duration": 12,
    "start_time": "2025-04-30T07:27:37.773Z"
   },
   {
    "duration": 16,
    "start_time": "2025-04-30T07:34:53.406Z"
   },
   {
    "duration": 12,
    "start_time": "2025-04-30T07:39:52.108Z"
   },
   {
    "duration": 18,
    "start_time": "2025-04-30T07:41:07.593Z"
   },
   {
    "duration": 16,
    "start_time": "2025-04-30T07:41:13.881Z"
   },
   {
    "duration": 12,
    "start_time": "2025-04-30T07:41:42.196Z"
   },
   {
    "duration": 17,
    "start_time": "2025-04-30T07:41:56.196Z"
   },
   {
    "duration": 15,
    "start_time": "2025-04-30T07:42:04.369Z"
   },
   {
    "duration": 17,
    "start_time": "2025-04-30T07:45:47.902Z"
   },
   {
    "duration": 387,
    "start_time": "2025-04-30T07:47:21.795Z"
   },
   {
    "duration": 1170,
    "start_time": "2025-04-30T07:49:16.539Z"
   },
   {
    "duration": 47,
    "start_time": "2025-04-30T07:49:17.713Z"
   },
   {
    "duration": 13,
    "start_time": "2025-04-30T07:49:17.762Z"
   },
   {
    "duration": 15,
    "start_time": "2025-04-30T07:49:17.778Z"
   },
   {
    "duration": 9,
    "start_time": "2025-04-30T07:49:17.809Z"
   },
   {
    "duration": 12,
    "start_time": "2025-04-30T07:49:17.820Z"
   },
   {
    "duration": 18,
    "start_time": "2025-04-30T07:49:17.835Z"
   },
   {
    "duration": 25,
    "start_time": "2025-04-30T07:49:17.855Z"
   },
   {
    "duration": 27,
    "start_time": "2025-04-30T07:49:17.883Z"
   },
   {
    "duration": 10,
    "start_time": "2025-04-30T07:49:17.915Z"
   },
   {
    "duration": 6,
    "start_time": "2025-04-30T07:49:17.927Z"
   },
   {
    "duration": 7,
    "start_time": "2025-04-30T07:49:17.934Z"
   },
   {
    "duration": 9,
    "start_time": "2025-04-30T07:49:17.943Z"
   },
   {
    "duration": 10,
    "start_time": "2025-04-30T07:49:17.954Z"
   },
   {
    "duration": 44,
    "start_time": "2025-04-30T07:49:17.966Z"
   },
   {
    "duration": 243,
    "start_time": "2025-04-30T07:49:18.014Z"
   },
   {
    "duration": 0,
    "start_time": "2025-04-30T07:49:18.260Z"
   },
   {
    "duration": 0,
    "start_time": "2025-04-30T07:49:18.261Z"
   },
   {
    "duration": 0,
    "start_time": "2025-04-30T07:49:18.263Z"
   },
   {
    "duration": 0,
    "start_time": "2025-04-30T07:49:18.264Z"
   },
   {
    "duration": 0,
    "start_time": "2025-04-30T07:49:18.266Z"
   },
   {
    "duration": 0,
    "start_time": "2025-04-30T07:49:18.267Z"
   },
   {
    "duration": 0,
    "start_time": "2025-04-30T07:49:18.268Z"
   },
   {
    "duration": 0,
    "start_time": "2025-04-30T07:49:18.270Z"
   },
   {
    "duration": 0,
    "start_time": "2025-04-30T07:49:18.272Z"
   },
   {
    "duration": 0,
    "start_time": "2025-04-30T07:49:18.273Z"
   },
   {
    "duration": 0,
    "start_time": "2025-04-30T07:49:18.275Z"
   },
   {
    "duration": 0,
    "start_time": "2025-04-30T07:49:18.276Z"
   },
   {
    "duration": 14,
    "start_time": "2025-04-30T07:49:58.503Z"
   },
   {
    "duration": 9,
    "start_time": "2025-04-30T07:50:04.896Z"
   },
   {
    "duration": 15,
    "start_time": "2025-04-30T07:50:06.389Z"
   },
   {
    "duration": 10,
    "start_time": "2025-04-30T07:50:07.928Z"
   },
   {
    "duration": 11,
    "start_time": "2025-04-30T07:50:15.913Z"
   },
   {
    "duration": 14,
    "start_time": "2025-04-30T07:50:18.818Z"
   },
   {
    "duration": 11,
    "start_time": "2025-04-30T07:52:36.887Z"
   },
   {
    "duration": 119,
    "start_time": "2025-04-30T07:53:52.927Z"
   },
   {
    "duration": 12,
    "start_time": "2025-04-30T07:54:14.309Z"
   },
   {
    "duration": 16,
    "start_time": "2025-04-30T07:54:18.456Z"
   },
   {
    "duration": 17,
    "start_time": "2025-04-30T07:55:37.508Z"
   },
   {
    "duration": 15,
    "start_time": "2025-04-30T08:00:52.864Z"
   },
   {
    "duration": 358,
    "start_time": "2025-04-30T08:01:33.655Z"
   },
   {
    "duration": 12,
    "start_time": "2025-04-30T08:02:23.856Z"
   },
   {
    "duration": 3,
    "start_time": "2025-04-30T08:02:26.643Z"
   },
   {
    "duration": 14,
    "start_time": "2025-04-30T08:02:27.750Z"
   },
   {
    "duration": 18,
    "start_time": "2025-04-30T08:02:32.041Z"
   },
   {
    "duration": 19,
    "start_time": "2025-04-30T08:02:40.165Z"
   },
   {
    "duration": 250,
    "start_time": "2025-04-30T08:02:42.289Z"
   },
   {
    "duration": 114,
    "start_time": "2025-04-30T08:04:01.316Z"
   },
   {
    "duration": 17,
    "start_time": "2025-04-30T08:06:04.150Z"
   },
   {
    "duration": 113,
    "start_time": "2025-04-30T08:06:48.767Z"
   },
   {
    "duration": 109,
    "start_time": "2025-04-30T08:07:37.003Z"
   },
   {
    "duration": 183,
    "start_time": "2025-04-30T08:07:44.765Z"
   },
   {
    "duration": 80,
    "start_time": "2025-04-30T08:07:54.573Z"
   },
   {
    "duration": 131,
    "start_time": "2025-04-30T08:14:42.681Z"
   },
   {
    "duration": 210,
    "start_time": "2025-04-30T08:18:41.157Z"
   },
   {
    "duration": 141,
    "start_time": "2025-04-30T08:19:02.671Z"
   },
   {
    "duration": 143,
    "start_time": "2025-04-30T08:22:18.928Z"
   },
   {
    "duration": 171,
    "start_time": "2025-04-30T14:38:10.334Z"
   },
   {
    "duration": 2674,
    "start_time": "2025-04-30T14:38:45.856Z"
   },
   {
    "duration": 67,
    "start_time": "2025-04-30T14:38:48.533Z"
   },
   {
    "duration": 13,
    "start_time": "2025-04-30T14:38:48.602Z"
   },
   {
    "duration": 13,
    "start_time": "2025-04-30T14:38:48.617Z"
   },
   {
    "duration": 4,
    "start_time": "2025-04-30T14:38:48.631Z"
   },
   {
    "duration": 10,
    "start_time": "2025-04-30T14:38:48.636Z"
   },
   {
    "duration": 16,
    "start_time": "2025-04-30T14:38:48.647Z"
   },
   {
    "duration": 27,
    "start_time": "2025-04-30T14:38:48.686Z"
   },
   {
    "duration": 6,
    "start_time": "2025-04-30T14:38:48.715Z"
   },
   {
    "duration": 7,
    "start_time": "2025-04-30T14:38:48.726Z"
   },
   {
    "duration": 4,
    "start_time": "2025-04-30T14:38:48.735Z"
   },
   {
    "duration": 5,
    "start_time": "2025-04-30T14:38:48.741Z"
   },
   {
    "duration": 41,
    "start_time": "2025-04-30T14:38:48.748Z"
   },
   {
    "duration": 10,
    "start_time": "2025-04-30T14:38:48.790Z"
   },
   {
    "duration": 15,
    "start_time": "2025-04-30T14:38:48.801Z"
   },
   {
    "duration": 6,
    "start_time": "2025-04-30T14:38:48.818Z"
   },
   {
    "duration": 8,
    "start_time": "2025-04-30T14:38:48.826Z"
   },
   {
    "duration": 13,
    "start_time": "2025-04-30T14:38:48.835Z"
   },
   {
    "duration": 8,
    "start_time": "2025-04-30T14:38:48.887Z"
   },
   {
    "duration": 9,
    "start_time": "2025-04-30T14:38:48.896Z"
   },
   {
    "duration": 10,
    "start_time": "2025-04-30T14:38:48.907Z"
   },
   {
    "duration": 4,
    "start_time": "2025-04-30T14:38:48.919Z"
   },
   {
    "duration": 13,
    "start_time": "2025-04-30T14:38:48.924Z"
   },
   {
    "duration": 49,
    "start_time": "2025-04-30T14:38:48.938Z"
   },
   {
    "duration": 15,
    "start_time": "2025-04-30T14:38:48.989Z"
   },
   {
    "duration": 638,
    "start_time": "2025-04-30T14:38:49.006Z"
   },
   {
    "duration": 0,
    "start_time": "2025-04-30T14:38:49.646Z"
   },
   {
    "duration": 0,
    "start_time": "2025-04-30T14:38:49.648Z"
   },
   {
    "duration": 0,
    "start_time": "2025-04-30T14:38:49.649Z"
   },
   {
    "duration": 0,
    "start_time": "2025-04-30T14:38:49.650Z"
   },
   {
    "duration": 14,
    "start_time": "2025-04-30T14:39:03.634Z"
   },
   {
    "duration": 2631,
    "start_time": "2025-04-30T23:25:00.886Z"
   },
   {
    "duration": 67,
    "start_time": "2025-04-30T23:25:03.519Z"
   },
   {
    "duration": 12,
    "start_time": "2025-04-30T23:25:03.587Z"
   },
   {
    "duration": 13,
    "start_time": "2025-04-30T23:25:03.601Z"
   },
   {
    "duration": 3,
    "start_time": "2025-04-30T23:25:03.616Z"
   },
   {
    "duration": 10,
    "start_time": "2025-04-30T23:25:03.621Z"
   },
   {
    "duration": 16,
    "start_time": "2025-04-30T23:25:03.633Z"
   },
   {
    "duration": 23,
    "start_time": "2025-04-30T23:25:03.652Z"
   },
   {
    "duration": 37,
    "start_time": "2025-04-30T23:25:03.676Z"
   },
   {
    "duration": 8,
    "start_time": "2025-04-30T23:25:03.717Z"
   },
   {
    "duration": 5,
    "start_time": "2025-04-30T23:25:03.726Z"
   },
   {
    "duration": 6,
    "start_time": "2025-04-30T23:25:03.733Z"
   },
   {
    "duration": 6,
    "start_time": "2025-04-30T23:25:03.740Z"
   },
   {
    "duration": 9,
    "start_time": "2025-04-30T23:25:03.747Z"
   },
   {
    "duration": 55,
    "start_time": "2025-04-30T23:25:03.757Z"
   },
   {
    "duration": 6,
    "start_time": "2025-04-30T23:25:03.814Z"
   },
   {
    "duration": 7,
    "start_time": "2025-04-30T23:25:03.822Z"
   },
   {
    "duration": 13,
    "start_time": "2025-04-30T23:25:03.830Z"
   },
   {
    "duration": 8,
    "start_time": "2025-04-30T23:25:03.844Z"
   },
   {
    "duration": 8,
    "start_time": "2025-04-30T23:25:03.855Z"
   },
   {
    "duration": 9,
    "start_time": "2025-04-30T23:25:03.865Z"
   },
   {
    "duration": 4,
    "start_time": "2025-04-30T23:25:03.911Z"
   },
   {
    "duration": 12,
    "start_time": "2025-04-30T23:25:03.917Z"
   },
   {
    "duration": 15,
    "start_time": "2025-04-30T23:25:03.931Z"
   },
   {
    "duration": 14,
    "start_time": "2025-04-30T23:25:03.947Z"
   },
   {
    "duration": 14,
    "start_time": "2025-04-30T23:25:03.962Z"
   },
   {
    "duration": 143,
    "start_time": "2025-04-30T23:25:04.012Z"
   },
   {
    "duration": 136,
    "start_time": "2025-04-30T23:25:04.158Z"
   },
   {
    "duration": 130,
    "start_time": "2025-04-30T23:25:04.296Z"
   },
   {
    "duration": 5,
    "start_time": "2025-04-30T23:25:04.428Z"
   },
   {
    "duration": 12,
    "start_time": "2025-04-30T23:53:36.815Z"
   },
   {
    "duration": 981,
    "start_time": "2025-04-30T23:53:51.759Z"
   },
   {
    "duration": 41,
    "start_time": "2025-04-30T23:53:52.742Z"
   },
   {
    "duration": 11,
    "start_time": "2025-04-30T23:53:52.785Z"
   },
   {
    "duration": 24,
    "start_time": "2025-04-30T23:53:52.798Z"
   },
   {
    "duration": 5,
    "start_time": "2025-04-30T23:53:52.824Z"
   },
   {
    "duration": 9,
    "start_time": "2025-04-30T23:53:52.830Z"
   },
   {
    "duration": 16,
    "start_time": "2025-04-30T23:53:52.841Z"
   },
   {
    "duration": 53,
    "start_time": "2025-04-30T23:53:52.859Z"
   },
   {
    "duration": 7,
    "start_time": "2025-04-30T23:53:52.913Z"
   },
   {
    "duration": 7,
    "start_time": "2025-04-30T23:53:52.923Z"
   },
   {
    "duration": 4,
    "start_time": "2025-04-30T23:53:52.932Z"
   },
   {
    "duration": 5,
    "start_time": "2025-04-30T23:53:52.938Z"
   },
   {
    "duration": 5,
    "start_time": "2025-04-30T23:53:52.945Z"
   },
   {
    "duration": 8,
    "start_time": "2025-04-30T23:53:52.952Z"
   },
   {
    "duration": 61,
    "start_time": "2025-04-30T23:53:52.962Z"
   },
   {
    "duration": 6,
    "start_time": "2025-04-30T23:53:53.025Z"
   },
   {
    "duration": 7,
    "start_time": "2025-04-30T23:53:53.033Z"
   },
   {
    "duration": 13,
    "start_time": "2025-04-30T23:53:53.041Z"
   },
   {
    "duration": 7,
    "start_time": "2025-04-30T23:53:53.055Z"
   },
   {
    "duration": 9,
    "start_time": "2025-04-30T23:53:53.064Z"
   },
   {
    "duration": 44,
    "start_time": "2025-04-30T23:53:53.074Z"
   },
   {
    "duration": 4,
    "start_time": "2025-04-30T23:53:53.120Z"
   },
   {
    "duration": 13,
    "start_time": "2025-04-30T23:53:53.126Z"
   },
   {
    "duration": 14,
    "start_time": "2025-04-30T23:53:53.141Z"
   },
   {
    "duration": 13,
    "start_time": "2025-04-30T23:53:53.156Z"
   },
   {
    "duration": 595,
    "start_time": "2025-04-30T23:53:53.171Z"
   },
   {
    "duration": 0,
    "start_time": "2025-04-30T23:53:53.768Z"
   },
   {
    "duration": 0,
    "start_time": "2025-04-30T23:53:53.770Z"
   },
   {
    "duration": 0,
    "start_time": "2025-04-30T23:53:53.771Z"
   },
   {
    "duration": 0,
    "start_time": "2025-04-30T23:53:53.773Z"
   },
   {
    "duration": 980,
    "start_time": "2025-04-30T23:55:04.408Z"
   },
   {
    "duration": 45,
    "start_time": "2025-04-30T23:55:05.390Z"
   },
   {
    "duration": 12,
    "start_time": "2025-04-30T23:55:05.436Z"
   },
   {
    "duration": 13,
    "start_time": "2025-04-30T23:55:05.450Z"
   },
   {
    "duration": 4,
    "start_time": "2025-04-30T23:55:05.464Z"
   },
   {
    "duration": 11,
    "start_time": "2025-04-30T23:55:05.470Z"
   },
   {
    "duration": 42,
    "start_time": "2025-04-30T23:55:05.483Z"
   },
   {
    "duration": 23,
    "start_time": "2025-04-30T23:55:05.527Z"
   },
   {
    "duration": 6,
    "start_time": "2025-04-30T23:55:05.552Z"
   },
   {
    "duration": 8,
    "start_time": "2025-04-30T23:55:05.562Z"
   },
   {
    "duration": 5,
    "start_time": "2025-04-30T23:55:05.571Z"
   },
   {
    "duration": 5,
    "start_time": "2025-04-30T23:55:05.612Z"
   },
   {
    "duration": 5,
    "start_time": "2025-04-30T23:55:05.619Z"
   },
   {
    "duration": 8,
    "start_time": "2025-04-30T23:55:05.626Z"
   },
   {
    "duration": 17,
    "start_time": "2025-04-30T23:55:05.635Z"
   },
   {
    "duration": 7,
    "start_time": "2025-04-30T23:55:05.653Z"
   },
   {
    "duration": 8,
    "start_time": "2025-04-30T23:55:05.662Z"
   },
   {
    "duration": 51,
    "start_time": "2025-04-30T23:55:05.672Z"
   },
   {
    "duration": 7,
    "start_time": "2025-04-30T23:55:05.725Z"
   },
   {
    "duration": 9,
    "start_time": "2025-04-30T23:55:05.734Z"
   },
   {
    "duration": 12,
    "start_time": "2025-04-30T23:55:05.745Z"
   },
   {
    "duration": 4,
    "start_time": "2025-04-30T23:55:05.758Z"
   },
   {
    "duration": 50,
    "start_time": "2025-04-30T23:55:05.763Z"
   },
   {
    "duration": 14,
    "start_time": "2025-04-30T23:55:05.815Z"
   },
   {
    "duration": 13,
    "start_time": "2025-04-30T23:55:05.831Z"
   },
   {
    "duration": 547,
    "start_time": "2025-04-30T23:55:05.847Z"
   },
   {
    "duration": 0,
    "start_time": "2025-04-30T23:55:06.396Z"
   },
   {
    "duration": 0,
    "start_time": "2025-04-30T23:55:06.397Z"
   },
   {
    "duration": 0,
    "start_time": "2025-04-30T23:55:06.399Z"
   },
   {
    "duration": 0,
    "start_time": "2025-04-30T23:55:06.412Z"
   },
   {
    "duration": 1040,
    "start_time": "2025-04-30T23:58:19.124Z"
   },
   {
    "duration": 41,
    "start_time": "2025-04-30T23:58:20.166Z"
   },
   {
    "duration": 13,
    "start_time": "2025-04-30T23:58:20.208Z"
   },
   {
    "duration": 13,
    "start_time": "2025-04-30T23:58:20.223Z"
   },
   {
    "duration": 4,
    "start_time": "2025-04-30T23:58:20.238Z"
   },
   {
    "duration": 10,
    "start_time": "2025-04-30T23:58:20.243Z"
   },
   {
    "duration": 15,
    "start_time": "2025-04-30T23:58:20.255Z"
   },
   {
    "duration": 59,
    "start_time": "2025-04-30T23:58:20.271Z"
   },
   {
    "duration": 7,
    "start_time": "2025-04-30T23:58:20.332Z"
   },
   {
    "duration": 7,
    "start_time": "2025-04-30T23:58:20.342Z"
   },
   {
    "duration": 5,
    "start_time": "2025-04-30T23:58:20.350Z"
   },
   {
    "duration": 6,
    "start_time": "2025-04-30T23:58:20.356Z"
   },
   {
    "duration": 5,
    "start_time": "2025-04-30T23:58:20.364Z"
   },
   {
    "duration": 41,
    "start_time": "2025-04-30T23:58:20.371Z"
   },
   {
    "duration": 17,
    "start_time": "2025-04-30T23:58:20.414Z"
   },
   {
    "duration": 6,
    "start_time": "2025-04-30T23:58:20.434Z"
   },
   {
    "duration": 7,
    "start_time": "2025-04-30T23:58:20.442Z"
   },
   {
    "duration": 13,
    "start_time": "2025-04-30T23:58:20.450Z"
   },
   {
    "duration": 7,
    "start_time": "2025-04-30T23:58:20.464Z"
   },
   {
    "duration": 45,
    "start_time": "2025-04-30T23:58:20.473Z"
   },
   {
    "duration": 13,
    "start_time": "2025-04-30T23:58:20.519Z"
   },
   {
    "duration": 4,
    "start_time": "2025-04-30T23:58:20.533Z"
   },
   {
    "duration": 14,
    "start_time": "2025-04-30T23:58:20.539Z"
   },
   {
    "duration": 13,
    "start_time": "2025-04-30T23:58:20.555Z"
   },
   {
    "duration": 45,
    "start_time": "2025-04-30T23:58:20.569Z"
   },
   {
    "duration": 540,
    "start_time": "2025-04-30T23:58:20.616Z"
   },
   {
    "duration": 0,
    "start_time": "2025-04-30T23:58:21.158Z"
   },
   {
    "duration": 0,
    "start_time": "2025-04-30T23:58:21.159Z"
   },
   {
    "duration": 0,
    "start_time": "2025-04-30T23:58:21.160Z"
   },
   {
    "duration": 0,
    "start_time": "2025-04-30T23:58:21.161Z"
   },
   {
    "duration": 967,
    "start_time": "2025-05-01T00:02:15.694Z"
   },
   {
    "duration": 40,
    "start_time": "2025-05-01T00:02:16.664Z"
   },
   {
    "duration": 16,
    "start_time": "2025-05-01T00:02:16.705Z"
   },
   {
    "duration": 13,
    "start_time": "2025-05-01T00:02:16.723Z"
   },
   {
    "duration": 4,
    "start_time": "2025-05-01T00:02:16.738Z"
   },
   {
    "duration": 9,
    "start_time": "2025-05-01T00:02:16.744Z"
   },
   {
    "duration": 16,
    "start_time": "2025-05-01T00:02:16.755Z"
   },
   {
    "duration": 55,
    "start_time": "2025-05-01T00:02:16.772Z"
   },
   {
    "duration": 6,
    "start_time": "2025-05-01T00:02:16.828Z"
   },
   {
    "duration": 8,
    "start_time": "2025-05-01T00:02:16.837Z"
   },
   {
    "duration": 5,
    "start_time": "2025-05-01T00:02:16.847Z"
   },
   {
    "duration": 5,
    "start_time": "2025-05-01T00:02:16.853Z"
   },
   {
    "duration": 4,
    "start_time": "2025-05-01T00:02:16.860Z"
   },
   {
    "duration": 46,
    "start_time": "2025-05-01T00:02:16.866Z"
   },
   {
    "duration": 17,
    "start_time": "2025-05-01T00:02:16.913Z"
   },
   {
    "duration": 6,
    "start_time": "2025-05-01T00:02:16.932Z"
   },
   {
    "duration": 7,
    "start_time": "2025-05-01T00:02:16.940Z"
   },
   {
    "duration": 12,
    "start_time": "2025-05-01T00:02:16.949Z"
   },
   {
    "duration": 7,
    "start_time": "2025-05-01T00:02:16.963Z"
   },
   {
    "duration": 42,
    "start_time": "2025-05-01T00:02:16.972Z"
   },
   {
    "duration": 12,
    "start_time": "2025-05-01T00:02:17.016Z"
   },
   {
    "duration": 2,
    "start_time": "2025-05-01T00:02:17.030Z"
   },
   {
    "duration": 15,
    "start_time": "2025-05-01T00:02:17.034Z"
   },
   {
    "duration": 14,
    "start_time": "2025-05-01T00:02:17.050Z"
   },
   {
    "duration": 48,
    "start_time": "2025-05-01T00:02:17.065Z"
   },
   {
    "duration": 14,
    "start_time": "2025-05-01T00:02:17.114Z"
   },
   {
    "duration": 150,
    "start_time": "2025-05-01T00:02:17.129Z"
   },
   {
    "duration": 131,
    "start_time": "2025-05-01T00:02:17.282Z"
   },
   {
    "duration": 126,
    "start_time": "2025-05-01T00:02:17.415Z"
   },
   {
    "duration": 5,
    "start_time": "2025-05-01T00:02:17.543Z"
   },
   {
    "duration": 4,
    "start_time": "2025-05-01T00:05:57.126Z"
   },
   {
    "duration": 13,
    "start_time": "2025-05-01T00:06:42.710Z"
   },
   {
    "duration": 13,
    "start_time": "2025-05-01T00:06:54.485Z"
   },
   {
    "duration": 13,
    "start_time": "2025-05-01T00:07:26.938Z"
   },
   {
    "duration": 17,
    "start_time": "2025-05-01T00:25:01.085Z"
   },
   {
    "duration": 22,
    "start_time": "2025-05-01T00:25:55.121Z"
   },
   {
    "duration": 973,
    "start_time": "2025-05-01T00:26:43.876Z"
   },
   {
    "duration": 42,
    "start_time": "2025-05-01T00:26:44.851Z"
   },
   {
    "duration": 11,
    "start_time": "2025-05-01T00:26:44.894Z"
   },
   {
    "duration": 12,
    "start_time": "2025-05-01T00:26:44.913Z"
   },
   {
    "duration": 4,
    "start_time": "2025-05-01T00:26:44.927Z"
   },
   {
    "duration": 11,
    "start_time": "2025-05-01T00:26:44.933Z"
   },
   {
    "duration": 16,
    "start_time": "2025-05-01T00:26:44.945Z"
   },
   {
    "duration": 23,
    "start_time": "2025-05-01T00:26:45.169Z"
   },
   {
    "duration": 6,
    "start_time": "2025-05-01T00:26:45.194Z"
   },
   {
    "duration": 10,
    "start_time": "2025-05-01T00:26:45.202Z"
   },
   {
    "duration": 5,
    "start_time": "2025-05-01T00:26:45.214Z"
   },
   {
    "duration": 5,
    "start_time": "2025-05-01T00:26:45.221Z"
   },
   {
    "duration": 5,
    "start_time": "2025-05-01T00:26:45.228Z"
   },
   {
    "duration": 8,
    "start_time": "2025-05-01T00:26:45.235Z"
   },
   {
    "duration": 16,
    "start_time": "2025-05-01T00:26:45.245Z"
   },
   {
    "duration": 7,
    "start_time": "2025-05-01T00:26:45.263Z"
   },
   {
    "duration": 47,
    "start_time": "2025-05-01T00:26:45.272Z"
   },
   {
    "duration": 13,
    "start_time": "2025-05-01T00:26:45.320Z"
   },
   {
    "duration": 8,
    "start_time": "2025-05-01T00:26:45.334Z"
   },
   {
    "duration": 10,
    "start_time": "2025-05-01T00:26:45.343Z"
   },
   {
    "duration": 13,
    "start_time": "2025-05-01T00:26:45.356Z"
   },
   {
    "duration": 51,
    "start_time": "2025-05-01T00:26:45.370Z"
   },
   {
    "duration": 12,
    "start_time": "2025-05-01T00:26:45.422Z"
   },
   {
    "duration": 14,
    "start_time": "2025-05-01T00:26:45.436Z"
   },
   {
    "duration": 13,
    "start_time": "2025-05-01T00:26:45.451Z"
   },
   {
    "duration": 161,
    "start_time": "2025-05-01T00:26:45.465Z"
   },
   {
    "duration": 128,
    "start_time": "2025-05-01T00:26:45.628Z"
   },
   {
    "duration": 133,
    "start_time": "2025-05-01T00:26:45.758Z"
   },
   {
    "duration": 3,
    "start_time": "2025-05-01T00:26:45.894Z"
   },
   {
    "duration": 0,
    "start_time": "2025-05-01T00:26:45.899Z"
   },
   {
    "duration": 15,
    "start_time": "2025-05-01T00:28:42.445Z"
   },
   {
    "duration": 15,
    "start_time": "2025-05-01T00:29:38.317Z"
   },
   {
    "duration": 14,
    "start_time": "2025-05-01T00:31:07.583Z"
   },
   {
    "duration": 1038,
    "start_time": "2025-05-01T00:31:16.127Z"
   },
   {
    "duration": 39,
    "start_time": "2025-05-01T00:31:17.167Z"
   },
   {
    "duration": 15,
    "start_time": "2025-05-01T00:31:17.207Z"
   },
   {
    "duration": 14,
    "start_time": "2025-05-01T00:31:17.224Z"
   },
   {
    "duration": 4,
    "start_time": "2025-05-01T00:31:17.240Z"
   },
   {
    "duration": 10,
    "start_time": "2025-05-01T00:31:17.246Z"
   },
   {
    "duration": 16,
    "start_time": "2025-05-01T00:31:17.257Z"
   },
   {
    "duration": 58,
    "start_time": "2025-05-01T00:31:17.275Z"
   },
   {
    "duration": 6,
    "start_time": "2025-05-01T00:31:17.335Z"
   },
   {
    "duration": 7,
    "start_time": "2025-05-01T00:31:17.345Z"
   },
   {
    "duration": 3,
    "start_time": "2025-05-01T00:31:17.354Z"
   },
   {
    "duration": 6,
    "start_time": "2025-05-01T00:31:17.359Z"
   },
   {
    "duration": 5,
    "start_time": "2025-05-01T00:31:17.367Z"
   },
   {
    "duration": 9,
    "start_time": "2025-05-01T00:31:17.412Z"
   },
   {
    "duration": 16,
    "start_time": "2025-05-01T00:31:17.422Z"
   },
   {
    "duration": 6,
    "start_time": "2025-05-01T00:31:17.440Z"
   },
   {
    "duration": 8,
    "start_time": "2025-05-01T00:31:17.448Z"
   },
   {
    "duration": 12,
    "start_time": "2025-05-01T00:31:17.457Z"
   },
   {
    "duration": 7,
    "start_time": "2025-05-01T00:31:17.472Z"
   },
   {
    "duration": 10,
    "start_time": "2025-05-01T00:31:17.512Z"
   },
   {
    "duration": 15,
    "start_time": "2025-05-01T00:31:17.524Z"
   },
   {
    "duration": 16,
    "start_time": "2025-05-01T00:31:17.541Z"
   },
   {
    "duration": 13,
    "start_time": "2025-05-01T00:31:17.559Z"
   },
   {
    "duration": 41,
    "start_time": "2025-05-01T00:31:17.574Z"
   },
   {
    "duration": 13,
    "start_time": "2025-05-01T00:31:17.617Z"
   },
   {
    "duration": 151,
    "start_time": "2025-05-01T00:31:17.631Z"
   },
   {
    "duration": 129,
    "start_time": "2025-05-01T00:31:17.784Z"
   },
   {
    "duration": 138,
    "start_time": "2025-05-01T00:31:17.917Z"
   },
   {
    "duration": 4,
    "start_time": "2025-05-01T00:31:18.056Z"
   },
   {
    "duration": 0,
    "start_time": "2025-05-01T00:31:18.061Z"
   },
   {
    "duration": 15,
    "start_time": "2025-05-01T00:32:00.379Z"
   },
   {
    "duration": 5,
    "start_time": "2025-05-01T01:15:28.642Z"
   },
   {
    "duration": 303,
    "start_time": "2025-05-01T01:22:38.399Z"
   },
   {
    "duration": 19,
    "start_time": "2025-05-01T01:24:29.150Z"
   },
   {
    "duration": 4,
    "start_time": "2025-05-01T01:24:39.106Z"
   },
   {
    "duration": 5,
    "start_time": "2025-05-01T01:24:45.390Z"
   },
   {
    "duration": 4,
    "start_time": "2025-05-01T01:25:43.293Z"
   },
   {
    "duration": 4,
    "start_time": "2025-05-01T01:25:57.674Z"
   },
   {
    "duration": 4,
    "start_time": "2025-05-01T01:33:36.403Z"
   },
   {
    "duration": 5,
    "start_time": "2025-05-01T01:34:27.938Z"
   },
   {
    "duration": 5,
    "start_time": "2025-05-01T01:34:50.539Z"
   },
   {
    "duration": 17,
    "start_time": "2025-05-01T01:35:05.026Z"
   },
   {
    "duration": 6,
    "start_time": "2025-05-01T01:35:24.653Z"
   },
   {
    "duration": 5,
    "start_time": "2025-05-01T01:35:42.546Z"
   },
   {
    "duration": 13,
    "start_time": "2025-05-01T01:42:24.997Z"
   },
   {
    "duration": 4,
    "start_time": "2025-05-01T01:42:50.471Z"
   },
   {
    "duration": 4,
    "start_time": "2025-05-01T01:48:39.758Z"
   },
   {
    "duration": 5,
    "start_time": "2025-05-01T02:03:39.448Z"
   },
   {
    "duration": 4,
    "start_time": "2025-05-01T02:05:14.069Z"
   },
   {
    "duration": 4,
    "start_time": "2025-05-01T02:05:31.821Z"
   },
   {
    "duration": 4,
    "start_time": "2025-05-01T02:05:50.604Z"
   },
   {
    "duration": 5,
    "start_time": "2025-05-01T02:05:57.979Z"
   },
   {
    "duration": 5,
    "start_time": "2025-05-01T02:09:50.796Z"
   },
   {
    "duration": 6,
    "start_time": "2025-05-01T02:11:42.965Z"
   },
   {
    "duration": 2,
    "start_time": "2025-05-01T02:16:13.499Z"
   },
   {
    "duration": 14,
    "start_time": "2025-05-01T02:16:23.435Z"
   },
   {
    "duration": 121,
    "start_time": "2025-05-01T02:16:26.219Z"
   },
   {
    "duration": 183,
    "start_time": "2025-05-01T02:16:35.645Z"
   },
   {
    "duration": 5,
    "start_time": "2025-05-01T02:19:11.799Z"
   },
   {
    "duration": 6,
    "start_time": "2025-05-01T02:19:15.665Z"
   },
   {
    "duration": 5,
    "start_time": "2025-05-01T02:19:35.077Z"
   },
   {
    "duration": 4,
    "start_time": "2025-05-01T02:19:51.157Z"
   },
   {
    "duration": 12,
    "start_time": "2025-05-01T02:40:09.117Z"
   },
   {
    "duration": 11,
    "start_time": "2025-05-01T02:41:17.614Z"
   },
   {
    "duration": 13,
    "start_time": "2025-05-01T02:42:35.029Z"
   },
   {
    "duration": 4,
    "start_time": "2025-05-01T02:43:06.957Z"
   },
   {
    "duration": 4,
    "start_time": "2025-05-01T02:43:13.407Z"
   },
   {
    "duration": 4,
    "start_time": "2025-05-01T02:44:00.677Z"
   },
   {
    "duration": 4,
    "start_time": "2025-05-01T02:44:14.760Z"
   },
   {
    "duration": 21,
    "start_time": "2025-05-01T02:44:57.202Z"
   },
   {
    "duration": 4,
    "start_time": "2025-05-01T02:45:21.241Z"
   },
   {
    "duration": 11,
    "start_time": "2025-05-01T02:48:27.132Z"
   },
   {
    "duration": 3,
    "start_time": "2025-05-01T02:51:48.097Z"
   },
   {
    "duration": 4,
    "start_time": "2025-05-01T02:55:51.795Z"
   },
   {
    "duration": 4,
    "start_time": "2025-05-01T02:56:09.017Z"
   },
   {
    "duration": 11,
    "start_time": "2025-05-01T02:56:12.310Z"
   },
   {
    "duration": 4,
    "start_time": "2025-05-01T02:56:17.594Z"
   },
   {
    "duration": 9,
    "start_time": "2025-05-01T03:08:15.523Z"
   },
   {
    "duration": 13,
    "start_time": "2025-05-01T03:08:45.381Z"
   },
   {
    "duration": 21,
    "start_time": "2025-05-01T03:10:43.474Z"
   },
   {
    "duration": 4,
    "start_time": "2025-05-01T03:15:09.148Z"
   },
   {
    "duration": 13,
    "start_time": "2025-05-01T03:26:58.794Z"
   },
   {
    "duration": 12,
    "start_time": "2025-05-01T03:27:26.736Z"
   },
   {
    "duration": 12,
    "start_time": "2025-05-01T03:27:42.897Z"
   },
   {
    "duration": 5,
    "start_time": "2025-05-01T03:29:12.302Z"
   },
   {
    "duration": 14,
    "start_time": "2025-05-01T03:33:23.557Z"
   },
   {
    "duration": 11,
    "start_time": "2025-05-01T03:34:13.785Z"
   },
   {
    "duration": 19,
    "start_time": "2025-05-01T03:37:03.786Z"
   },
   {
    "duration": 19,
    "start_time": "2025-05-01T03:37:21.997Z"
   },
   {
    "duration": 19,
    "start_time": "2025-05-01T03:38:15.936Z"
   },
   {
    "duration": 19,
    "start_time": "2025-05-01T03:40:09.778Z"
   },
   {
    "duration": 19,
    "start_time": "2025-05-01T03:41:39.569Z"
   },
   {
    "duration": 12,
    "start_time": "2025-05-01T03:52:01.972Z"
   },
   {
    "duration": 161,
    "start_time": "2025-05-07T03:50:29.005Z"
   },
   {
    "duration": 2830,
    "start_time": "2025-05-07T03:50:39.162Z"
   },
   {
    "duration": 68,
    "start_time": "2025-05-07T03:50:41.995Z"
   },
   {
    "duration": 14,
    "start_time": "2025-05-07T03:50:42.064Z"
   },
   {
    "duration": 23,
    "start_time": "2025-05-07T03:50:42.081Z"
   },
   {
    "duration": 5,
    "start_time": "2025-05-07T03:50:42.106Z"
   },
   {
    "duration": 13,
    "start_time": "2025-05-07T03:50:42.113Z"
   },
   {
    "duration": 19,
    "start_time": "2025-05-07T03:50:42.129Z"
   },
   {
    "duration": 51,
    "start_time": "2025-05-07T03:50:42.150Z"
   },
   {
    "duration": 6,
    "start_time": "2025-05-07T03:50:42.203Z"
   },
   {
    "duration": 12,
    "start_time": "2025-05-07T03:50:42.213Z"
   },
   {
    "duration": 7,
    "start_time": "2025-05-07T03:50:42.228Z"
   },
   {
    "duration": 6,
    "start_time": "2025-05-07T03:50:42.237Z"
   },
   {
    "duration": 7,
    "start_time": "2025-05-07T03:50:42.245Z"
   },
   {
    "duration": 9,
    "start_time": "2025-05-07T03:50:42.286Z"
   },
   {
    "duration": 16,
    "start_time": "2025-05-07T03:50:42.297Z"
   },
   {
    "duration": 6,
    "start_time": "2025-05-07T03:50:42.314Z"
   },
   {
    "duration": 9,
    "start_time": "2025-05-07T03:50:42.322Z"
   },
   {
    "duration": 17,
    "start_time": "2025-05-07T03:50:42.332Z"
   },
   {
    "duration": 40,
    "start_time": "2025-05-07T03:50:42.351Z"
   },
   {
    "duration": 13,
    "start_time": "2025-05-07T03:50:42.392Z"
   },
   {
    "duration": 16,
    "start_time": "2025-05-07T03:50:42.408Z"
   },
   {
    "duration": 16,
    "start_time": "2025-05-07T03:50:42.426Z"
   },
   {
    "duration": 45,
    "start_time": "2025-05-07T03:50:42.444Z"
   },
   {
    "duration": 19,
    "start_time": "2025-05-07T03:50:42.491Z"
   },
   {
    "duration": 7,
    "start_time": "2025-05-07T03:50:42.513Z"
   },
   {
    "duration": 3,
    "start_time": "2025-05-07T03:50:42.522Z"
   },
   {
    "duration": 13,
    "start_time": "2025-05-07T03:50:42.527Z"
   },
   {
    "duration": 247,
    "start_time": "2025-05-07T03:50:42.546Z"
   },
   {
    "duration": 135,
    "start_time": "2025-05-07T03:50:42.795Z"
   },
   {
    "duration": 143,
    "start_time": "2025-05-07T03:50:42.932Z"
   },
   {
    "duration": 9,
    "start_time": "2025-05-07T03:50:43.078Z"
   },
   {
    "duration": 4,
    "start_time": "2025-05-07T03:50:43.089Z"
   },
   {
    "duration": 4,
    "start_time": "2025-05-07T03:50:43.095Z"
   },
   {
    "duration": 12,
    "start_time": "2025-05-07T03:50:43.101Z"
   },
   {
    "duration": 4,
    "start_time": "2025-05-07T03:50:43.115Z"
   },
   {
    "duration": 17,
    "start_time": "2025-05-07T03:50:43.121Z"
   },
   {
    "duration": 64,
    "start_time": "2025-05-07T03:50:43.140Z"
   },
   {
    "duration": 6,
    "start_time": "2025-05-07T03:50:43.207Z"
   },
   {
    "duration": 5,
    "start_time": "2025-05-07T03:50:43.215Z"
   },
   {
    "duration": 4,
    "start_time": "2025-05-07T03:50:43.222Z"
   },
   {
    "duration": 11,
    "start_time": "2025-05-07T03:50:43.228Z"
   },
   {
    "duration": 12,
    "start_time": "2025-05-07T03:50:43.240Z"
   },
   {
    "duration": 40,
    "start_time": "2025-05-07T03:50:43.254Z"
   },
   {
    "duration": 13,
    "start_time": "2025-05-07T03:50:43.296Z"
   },
   {
    "duration": 5,
    "start_time": "2025-05-07T04:12:51.626Z"
   },
   {
    "duration": 228,
    "start_time": "2025-05-07T04:14:36.916Z"
   },
   {
    "duration": 4,
    "start_time": "2025-05-07T04:14:42.498Z"
   },
   {
    "duration": 4,
    "start_time": "2025-05-07T04:16:30.009Z"
   },
   {
    "duration": 9,
    "start_time": "2025-05-07T04:57:34.850Z"
   },
   {
    "duration": 12,
    "start_time": "2025-05-07T04:57:40.525Z"
   },
   {
    "duration": 10,
    "start_time": "2025-05-07T04:57:55.163Z"
   },
   {
    "duration": 12,
    "start_time": "2025-05-07T04:57:58.870Z"
   },
   {
    "duration": 4,
    "start_time": "2025-05-07T05:03:41.156Z"
   },
   {
    "duration": 1045,
    "start_time": "2025-05-07T05:07:04.806Z"
   },
   {
    "duration": 46,
    "start_time": "2025-05-07T05:07:05.853Z"
   },
   {
    "duration": 11,
    "start_time": "2025-05-07T05:07:05.900Z"
   },
   {
    "duration": 13,
    "start_time": "2025-05-07T05:07:05.914Z"
   },
   {
    "duration": 4,
    "start_time": "2025-05-07T05:07:05.929Z"
   },
   {
    "duration": 10,
    "start_time": "2025-05-07T05:07:05.935Z"
   },
   {
    "duration": 44,
    "start_time": "2025-05-07T05:07:05.946Z"
   },
   {
    "duration": 22,
    "start_time": "2025-05-07T05:07:05.993Z"
   },
   {
    "duration": 6,
    "start_time": "2025-05-07T05:07:06.017Z"
   },
   {
    "duration": 8,
    "start_time": "2025-05-07T05:07:06.026Z"
   },
   {
    "duration": 5,
    "start_time": "2025-05-07T05:07:06.035Z"
   },
   {
    "duration": 6,
    "start_time": "2025-05-07T05:07:06.041Z"
   },
   {
    "duration": 41,
    "start_time": "2025-05-07T05:07:06.049Z"
   },
   {
    "duration": 9,
    "start_time": "2025-05-07T05:07:06.092Z"
   },
   {
    "duration": 16,
    "start_time": "2025-05-07T05:07:06.102Z"
   },
   {
    "duration": 7,
    "start_time": "2025-05-07T05:07:06.120Z"
   },
   {
    "duration": 8,
    "start_time": "2025-05-07T05:07:06.129Z"
   },
   {
    "duration": 12,
    "start_time": "2025-05-07T05:07:06.139Z"
   },
   {
    "duration": 40,
    "start_time": "2025-05-07T05:07:06.153Z"
   },
   {
    "duration": 4,
    "start_time": "2025-05-07T05:07:06.195Z"
   },
   {
    "duration": 10,
    "start_time": "2025-05-07T05:07:06.200Z"
   },
   {
    "duration": 4,
    "start_time": "2025-05-07T05:07:06.211Z"
   },
   {
    "duration": 14,
    "start_time": "2025-05-07T05:07:06.217Z"
   },
   {
    "duration": 14,
    "start_time": "2025-05-07T05:07:06.232Z"
   },
   {
    "duration": 50,
    "start_time": "2025-05-07T05:07:06.248Z"
   },
   {
    "duration": 14,
    "start_time": "2025-05-07T05:07:06.299Z"
   },
   {
    "duration": 6,
    "start_time": "2025-05-07T05:07:06.315Z"
   },
   {
    "duration": 2,
    "start_time": "2025-05-07T05:07:06.326Z"
   },
   {
    "duration": 13,
    "start_time": "2025-05-07T05:07:06.330Z"
   },
   {
    "duration": 172,
    "start_time": "2025-05-07T05:07:06.344Z"
   },
   {
    "duration": 132,
    "start_time": "2025-05-07T05:07:06.518Z"
   },
   {
    "duration": 132,
    "start_time": "2025-05-07T05:07:06.652Z"
   },
   {
    "duration": 5,
    "start_time": "2025-05-07T05:07:06.787Z"
   },
   {
    "duration": 5,
    "start_time": "2025-05-07T05:07:06.794Z"
   },
   {
    "duration": 4,
    "start_time": "2025-05-07T05:07:06.800Z"
   },
   {
    "duration": 11,
    "start_time": "2025-05-07T05:07:06.806Z"
   },
   {
    "duration": 4,
    "start_time": "2025-05-07T05:07:06.818Z"
   },
   {
    "duration": 14,
    "start_time": "2025-05-07T05:07:06.824Z"
   },
   {
    "duration": 56,
    "start_time": "2025-05-07T05:07:06.840Z"
   },
   {
    "duration": 6,
    "start_time": "2025-05-07T05:07:06.898Z"
   },
   {
    "duration": 5,
    "start_time": "2025-05-07T05:07:06.905Z"
   },
   {
    "duration": 5,
    "start_time": "2025-05-07T05:07:06.912Z"
   },
   {
    "duration": 7,
    "start_time": "2025-05-07T05:07:06.919Z"
   },
   {
    "duration": 9,
    "start_time": "2025-05-07T05:07:06.928Z"
   },
   {
    "duration": 9,
    "start_time": "2025-05-07T05:07:06.939Z"
   },
   {
    "duration": 54,
    "start_time": "2025-05-07T05:07:06.949Z"
   },
   {
    "duration": 9,
    "start_time": "2025-05-07T05:20:55.329Z"
   }
  ],
  "colab": {
   "provenance": []
  },
  "kernelspec": {
   "display_name": "Python 3 (ipykernel)",
   "language": "python",
   "name": "python3"
  },
  "language_info": {
   "codemirror_mode": {
    "name": "ipython",
    "version": 3
   },
   "file_extension": ".py",
   "mimetype": "text/x-python",
   "name": "python",
   "nbconvert_exporter": "python",
   "pygments_lexer": "ipython3",
   "version": "3.9.19"
  },
  "toc": {
   "base_numbering": 1,
   "nav_menu": {},
   "number_sections": true,
   "sideBar": true,
   "skip_h1_title": true,
   "title_cell": "Table of Contents",
   "title_sidebar": "Contents",
   "toc_cell": false,
   "toc_position": {
    "height": "calc(100% - 180px)",
    "left": "10px",
    "top": "150px",
    "width": "375.488px"
   },
   "toc_section_display": true,
   "toc_window_display": true
  }
 },
 "nbformat": 4,
 "nbformat_minor": 1
}
